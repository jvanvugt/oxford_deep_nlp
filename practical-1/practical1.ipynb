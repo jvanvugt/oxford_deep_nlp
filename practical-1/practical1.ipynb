{
 "cells": [
  {
   "cell_type": "markdown",
   "metadata": {},
   "source": [
    "## Practical 1: word2vec\n",
    "<p>Oxford CS - Deep NLP 2017<br>\n",
    "https://www.cs.ox.ac.uk/teaching/courses/2016-2017/dl/</p>\n",
    "<p>[Yannis Assael, Brendan Shillingford, Chris Dyer]</p>"
   ]
  },
  {
   "cell_type": "markdown",
   "metadata": {},
   "source": [
    "This practical is presented as an IPython Notebook, with the code written for recent versions of **Python 3**. The code in this practical will not work with Python 2 unless you modify it. If you are using your own Python installation, ensure you have a setup identical to that described in the installation shell script (which is intended for use with the department lab machines). We will be unable to support installation on personal machines due to time constraints, so please use the lab machines and the setup script if you are unfamiliar with how to install Anaconda.\n",
    "\n",
    "To execute a notebook cell, press `shift-enter`. The return value of the last command will be displayed, if it is not `None`.\n",
    "\n",
    "Potentially useful library documentation, references, and resources:\n",
    "\n",
    "* IPython notebooks: <https://ipython.org/ipython-doc/3/notebook/notebook.html#introduction>\n",
    "* Numpy numerical array library: <https://docs.scipy.org/doc/>\n",
    "* Gensim's word2vec: <https://radimrehurek.com/gensim/models/word2vec.html>\n",
    "* Bokeh interactive plots: <http://bokeh.pydata.org/en/latest/> (we provide plotting code here, but click the thumbnails for more examples to copy-paste)\n",
    "* scikit-learn ML library (aka `sklearn`): <http://scikit-learn.org/stable/documentation.html>\n",
    "* nltk NLP toolkit: <http://www.nltk.org/>\n",
    "* tutorial for processing xml in python using `lxml`: <http://lxml.de/tutorial.html> (we did this for you below, but in case you need it in the future)"
   ]
  },
  {
   "cell_type": "code",
   "execution_count": 1,
   "metadata": {},
   "outputs": [],
   "source": [
    "import numpy as np\n",
    "import os\n",
    "from random import shuffle\n",
    "import re"
   ]
  },
  {
   "cell_type": "code",
   "execution_count": 2,
   "metadata": {},
   "outputs": [
    {
     "data": {
      "text/html": [
       "\n",
       "    <div class=\"bk-root\">\n",
       "        <a href=\"http://bokeh.pydata.org\" target=\"_blank\" class=\"bk-logo bk-logo-small bk-logo-notebook\"></a>\n",
       "        <span id=\"9dd28f4e-61d7-44f5-bc8a-d76deaa3f9b4\">Loading BokehJS ...</span>\n",
       "    </div>"
      ]
     },
     "metadata": {},
     "output_type": "display_data"
    },
    {
     "data": {
      "application/javascript": [
       "\n",
       "(function(global) {\n",
       "  function now() {\n",
       "    return new Date();\n",
       "  }\n",
       "\n",
       "  var force = true;\n",
       "\n",
       "  if (typeof (window._bokeh_onload_callbacks) === \"undefined\" || force === true) {\n",
       "    window._bokeh_onload_callbacks = [];\n",
       "    window._bokeh_is_loading = undefined;\n",
       "  }\n",
       "\n",
       "\n",
       "  \n",
       "  if (typeof (window._bokeh_timeout) === \"undefined\" || force === true) {\n",
       "    window._bokeh_timeout = Date.now() + 5000;\n",
       "    window._bokeh_failed_load = false;\n",
       "  }\n",
       "\n",
       "  var NB_LOAD_WARNING = {'data': {'text/html':\n",
       "     \"<div style='background-color: #fdd'>\\n\"+\n",
       "     \"<p>\\n\"+\n",
       "     \"BokehJS does not appear to have successfully loaded. If loading BokehJS from CDN, this \\n\"+\n",
       "     \"may be due to a slow or bad network connection. Possible fixes:\\n\"+\n",
       "     \"</p>\\n\"+\n",
       "     \"<ul>\\n\"+\n",
       "     \"<li>re-rerun `output_notebook()` to attempt to load from CDN again, or</li>\\n\"+\n",
       "     \"<li>use INLINE resources instead, as so:</li>\\n\"+\n",
       "     \"</ul>\\n\"+\n",
       "     \"<code>\\n\"+\n",
       "     \"from bokeh.resources import INLINE\\n\"+\n",
       "     \"output_notebook(resources=INLINE)\\n\"+\n",
       "     \"</code>\\n\"+\n",
       "     \"</div>\"}};\n",
       "\n",
       "  function display_loaded() {\n",
       "    if (window.Bokeh !== undefined) {\n",
       "      document.getElementById(\"9dd28f4e-61d7-44f5-bc8a-d76deaa3f9b4\").textContent = \"BokehJS successfully loaded.\";\n",
       "    } else if (Date.now() < window._bokeh_timeout) {\n",
       "      setTimeout(display_loaded, 100)\n",
       "    }\n",
       "  }\n",
       "\n",
       "  function run_callbacks() {\n",
       "    window._bokeh_onload_callbacks.forEach(function(callback) { callback() });\n",
       "    delete window._bokeh_onload_callbacks\n",
       "    console.info(\"Bokeh: all callbacks have finished\");\n",
       "  }\n",
       "\n",
       "  function load_libs(js_urls, callback) {\n",
       "    window._bokeh_onload_callbacks.push(callback);\n",
       "    if (window._bokeh_is_loading > 0) {\n",
       "      console.log(\"Bokeh: BokehJS is being loaded, scheduling callback at\", now());\n",
       "      return null;\n",
       "    }\n",
       "    if (js_urls == null || js_urls.length === 0) {\n",
       "      run_callbacks();\n",
       "      return null;\n",
       "    }\n",
       "    console.log(\"Bokeh: BokehJS not loaded, scheduling load and callback at\", now());\n",
       "    window._bokeh_is_loading = js_urls.length;\n",
       "    for (var i = 0; i < js_urls.length; i++) {\n",
       "      var url = js_urls[i];\n",
       "      var s = document.createElement('script');\n",
       "      s.src = url;\n",
       "      s.async = false;\n",
       "      s.onreadystatechange = s.onload = function() {\n",
       "        window._bokeh_is_loading--;\n",
       "        if (window._bokeh_is_loading === 0) {\n",
       "          console.log(\"Bokeh: all BokehJS libraries loaded\");\n",
       "          run_callbacks()\n",
       "        }\n",
       "      };\n",
       "      s.onerror = function() {\n",
       "        console.warn(\"failed to load library \" + url);\n",
       "      };\n",
       "      console.log(\"Bokeh: injecting script tag for BokehJS library: \", url);\n",
       "      document.getElementsByTagName(\"head\")[0].appendChild(s);\n",
       "    }\n",
       "  };var element = document.getElementById(\"9dd28f4e-61d7-44f5-bc8a-d76deaa3f9b4\");\n",
       "  if (element == null) {\n",
       "    console.log(\"Bokeh: ERROR: autoload.js configured with elementid '9dd28f4e-61d7-44f5-bc8a-d76deaa3f9b4' but no matching script tag was found. \")\n",
       "    return false;\n",
       "  }\n",
       "\n",
       "  var js_urls = [\"https://cdn.pydata.org/bokeh/release/bokeh-0.12.4.min.js\", \"https://cdn.pydata.org/bokeh/release/bokeh-widgets-0.12.4.min.js\"];\n",
       "\n",
       "  var inline_js = [\n",
       "    function(Bokeh) {\n",
       "      Bokeh.set_log_level(\"info\");\n",
       "    },\n",
       "    \n",
       "    function(Bokeh) {\n",
       "      \n",
       "      document.getElementById(\"9dd28f4e-61d7-44f5-bc8a-d76deaa3f9b4\").textContent = \"BokehJS is loading...\";\n",
       "    },\n",
       "    function(Bokeh) {\n",
       "      console.log(\"Bokeh: injecting CSS: https://cdn.pydata.org/bokeh/release/bokeh-0.12.4.min.css\");\n",
       "      Bokeh.embed.inject_css(\"https://cdn.pydata.org/bokeh/release/bokeh-0.12.4.min.css\");\n",
       "      console.log(\"Bokeh: injecting CSS: https://cdn.pydata.org/bokeh/release/bokeh-widgets-0.12.4.min.css\");\n",
       "      Bokeh.embed.inject_css(\"https://cdn.pydata.org/bokeh/release/bokeh-widgets-0.12.4.min.css\");\n",
       "    }\n",
       "  ];\n",
       "\n",
       "  function run_inline_js() {\n",
       "    \n",
       "    if ((window.Bokeh !== undefined) || (force === true)) {\n",
       "      for (var i = 0; i < inline_js.length; i++) {\n",
       "        inline_js[i](window.Bokeh);\n",
       "      }if (force === true) {\n",
       "        display_loaded();\n",
       "      }} else if (Date.now() < window._bokeh_timeout) {\n",
       "      setTimeout(run_inline_js, 100);\n",
       "    } else if (!window._bokeh_failed_load) {\n",
       "      console.log(\"Bokeh: BokehJS failed to load within specified timeout.\");\n",
       "      window._bokeh_failed_load = true;\n",
       "    } else if (force !== true) {\n",
       "      var cell = $(document.getElementById(\"9dd28f4e-61d7-44f5-bc8a-d76deaa3f9b4\")).parents('.cell').data().cell;\n",
       "      cell.output_area.append_execute_result(NB_LOAD_WARNING)\n",
       "    }\n",
       "\n",
       "  }\n",
       "\n",
       "  if (window._bokeh_is_loading === 0) {\n",
       "    console.log(\"Bokeh: BokehJS loaded, going straight to plotting\");\n",
       "    run_inline_js();\n",
       "  } else {\n",
       "    load_libs(js_urls, function() {\n",
       "      console.log(\"Bokeh: BokehJS plotting callback run at\", now());\n",
       "      run_inline_js();\n",
       "    });\n",
       "  }\n",
       "}(this));"
      ]
     },
     "metadata": {},
     "output_type": "display_data"
    }
   ],
   "source": [
    "from bokeh.models import ColumnDataSource, LabelSet\n",
    "from bokeh.plotting import figure, show, output_file\n",
    "from bokeh.io import output_notebook\n",
    "output_notebook()"
   ]
  },
  {
   "cell_type": "markdown",
   "metadata": {},
   "source": [
    "### Part 0: Download the TED dataset"
   ]
  },
  {
   "cell_type": "code",
   "execution_count": 3,
   "metadata": {},
   "outputs": [],
   "source": [
    "import urllib.request\n",
    "import zipfile\n",
    "import lxml.etree"
   ]
  },
  {
   "cell_type": "code",
   "execution_count": 4,
   "metadata": {},
   "outputs": [],
   "source": [
    "# Download the dataset if it's not already there: this may take a minute as it is 75MB\n",
    "if not os.path.isfile('ted_en-20160408.zip'):\n",
    "    urllib.request.urlretrieve(\"https://wit3.fbk.eu/get.php?path=XML_releases/xml/ted_en-20160408.zip&filename=ted_en-20160408.zip\", filename=\"ted_en-20160408.zip\")"
   ]
  },
  {
   "cell_type": "code",
   "execution_count": 5,
   "metadata": {
    "collapsed": true
   },
   "outputs": [],
   "source": [
    "# For now, we're only interested in the subtitle text, so let's extract that from the XML:\n",
    "with zipfile.ZipFile('ted_en-20160408.zip', 'r') as z:\n",
    "    doc = lxml.etree.parse(z.open('ted_en-20160408.xml', 'r'))\n",
    "input_text = '\\n'.join(doc.xpath('//content/text()'))\n",
    "del doc"
   ]
  },
  {
   "cell_type": "markdown",
   "metadata": {},
   "source": [
    "### Part 1: Preprocessing\n",
    "\n",
    "In this part, we attempt to clean up the raw subtitles a bit, so that we get only sentences. The following substring shows examples of what we're trying to get rid of. Since it's hard to define precisely what we want to get rid of, we'll just use some simple heuristics."
   ]
  },
  {
   "cell_type": "code",
   "execution_count": 6,
   "metadata": {
    "scrolled": false
   },
   "outputs": [
    {
     "data": {
      "text/plain": [
       "' baby does.\\n(Video) Hyowon Gweon: See this? (Ball squeaks) Did you see that? (Ball squeaks) Cool. See this one? (Ball squeaks) Wow.\\nLaura Schulz: Told you. (Laughs)\\n(Vide'"
      ]
     },
     "execution_count": 6,
     "metadata": {},
     "output_type": "execute_result"
    }
   ],
   "source": [
    "i = input_text.find(\"Hyowon Gweon: See this?\")\n",
    "input_text[i-20:i+150]"
   ]
  },
  {
   "cell_type": "markdown",
   "metadata": {},
   "source": [
    "Let's start by removing all parenthesized strings using a regex:"
   ]
  },
  {
   "cell_type": "code",
   "execution_count": 7,
   "metadata": {
    "collapsed": true
   },
   "outputs": [],
   "source": [
    "input_text_noparens = re.sub(r'\\([^)]*\\)', '', input_text)"
   ]
  },
  {
   "cell_type": "markdown",
   "metadata": {},
   "source": [
    "We can verify the same location in the text is now clean as follows. We won't worry about the irregular spaces since we'll later split the text into sentences and tokenize it anyway."
   ]
  },
  {
   "cell_type": "code",
   "execution_count": 8,
   "metadata": {},
   "outputs": [
    {
     "data": {
      "text/plain": [
       "\"hat the baby does.\\n Hyowon Gweon: See this?  Did you see that?  Cool. See this one?  Wow.\\nLaura Schulz: Told you. \\n HG: See this one?  Hey Clara, this one's for you. You \""
      ]
     },
     "execution_count": 8,
     "metadata": {},
     "output_type": "execute_result"
    }
   ],
   "source": [
    "i = input_text_noparens.find(\"Hyowon Gweon: See this?\")\n",
    "input_text_noparens[i-20:i+150]"
   ]
  },
  {
   "cell_type": "markdown",
   "metadata": {},
   "source": [
    "Now, let's attempt to remove speakers' names that occur at the beginning of a line, by deleting pieces of the form \"`<up to 20 characters>:`\", as shown in this example. Of course, this is an imperfect heuristic. "
   ]
  },
  {
   "cell_type": "code",
   "execution_count": 9,
   "metadata": {},
   "outputs": [
    {
     "data": {
      "text/plain": [
       "[\"Here are two reasons companies fail: they only do more of the same, or they only do what's new\",\n",
       " 'To me the real, real solution to quality growth is figuring out the balance between two activities: exploration and exploitation',\n",
       " ' Both are necessary, but it can be too much of a good thing',\n",
       " 'Consider Facit',\n",
       " \" I'm actually old enough to remember them\"]"
      ]
     },
     "execution_count": 9,
     "metadata": {},
     "output_type": "execute_result"
    }
   ],
   "source": [
    "sentences_strings_ted = []\n",
    "for line in input_text_noparens.split('\\n'):\n",
    "    m = re.match(r'^(?:(?P<precolon>[^:]{,20}):)?(?P<postcolon>.*)$', line)\n",
    "    sentences_strings_ted.extend(sent for sent in m.groupdict()['postcolon'].split('.') if sent)\n",
    "\n",
    "# Uncomment if you need to save some RAM: these strings are about 50MB.\n",
    "# del input_text, input_text_noparens\n",
    "\n",
    "# Let's view the first few:\n",
    "sentences_strings_ted[:5]"
   ]
  },
  {
   "cell_type": "markdown",
   "metadata": {},
   "source": [
    "Now that we have sentences, we're ready to tokenize each of them into words. This tokenization is imperfect, of course. For instance, how many tokens is \"can't\", and where/how do we split it? We'll take the simplest naive approach of splitting on spaces. Before splitting, we remove non-alphanumeric characters, such as punctuation. You may want to consider the following question: why do we replace these characters with spaces rather than deleting them? Think of a case where this yields a different answer."
   ]
  },
  {
   "cell_type": "code",
   "execution_count": 10,
   "metadata": {},
   "outputs": [],
   "source": [
    "sentences_ted = []\n",
    "for sent_str in sentences_strings_ted:\n",
    "    tokens = re.sub(r\"[^a-z0-9]+\", \" \", sent_str.lower()).split()\n",
    "    sentences_ted.append(tokens)"
   ]
  },
  {
   "cell_type": "markdown",
   "metadata": {},
   "source": [
    "Two sample processed sentences:"
   ]
  },
  {
   "cell_type": "code",
   "execution_count": 11,
   "metadata": {},
   "outputs": [
    {
     "data": {
      "text/plain": [
       "266694"
      ]
     },
     "execution_count": 11,
     "metadata": {},
     "output_type": "execute_result"
    }
   ],
   "source": [
    "len(sentences_ted)"
   ]
  },
  {
   "cell_type": "code",
   "execution_count": 12,
   "metadata": {},
   "outputs": [
    {
     "name": "stdout",
     "output_type": "stream",
     "text": [
      "['here', 'are', 'two', 'reasons', 'companies', 'fail', 'they', 'only', 'do', 'more', 'of', 'the', 'same', 'or', 'they', 'only', 'do', 'what', 's', 'new']\n",
      "['to', 'me', 'the', 'real', 'real', 'solution', 'to', 'quality', 'growth', 'is', 'figuring', 'out', 'the', 'balance', 'between', 'two', 'activities', 'exploration', 'and', 'exploitation']\n"
     ]
    }
   ],
   "source": [
    "print(sentences_ted[0])\n",
    "print(sentences_ted[1])"
   ]
  },
  {
   "cell_type": "markdown",
   "metadata": {},
   "source": [
    "### Part 2: Word Frequencies"
   ]
  },
  {
   "cell_type": "markdown",
   "metadata": {},
   "source": [
    "If you store the counts of the top 1000 words in a list called `counts_ted_top1000`, the code below will plot the histogram requested in the writeup."
   ]
  },
  {
   "cell_type": "code",
   "execution_count": 66,
   "metadata": {},
   "outputs": [],
   "source": [
    "from sklearn.feature_extraction.text import CountVectorizer\n",
    "\n",
    "cv = CountVectorizer()\n",
    "counts = cv.fit_transform([' '.join(sentence) for sentence in sentences_ted])\n",
    "\n",
    "words2idx = cv.vocabulary_\n",
    "idx2word = {v:k for k, v in words2idx.items()}\n",
    "\n",
    "counts_ted = np.asarray(counts.sum(axis=0)).squeeze()\n",
    "counts_ted_top1000 = np.sort(counts_ted)[::-1][:1000]\n",
    "idx_ted_top1000 = np.argsort(counts_ted)[::-1][:1000]\n",
    "words_top_ted = [idx2word[i] for i in idx_ted_top1000]\n"
   ]
  },
  {
   "cell_type": "markdown",
   "metadata": {},
   "source": [
    "Plot distribution of top-1000 words"
   ]
  },
  {
   "cell_type": "code",
   "execution_count": 44,
   "metadata": {},
   "outputs": [
    {
     "data": {
      "text/html": [
       "\n",
       "\n",
       "    <div class=\"bk-root\">\n",
       "        <div class=\"bk-plotdiv\" id=\"aa4670ad-33fc-4cac-8421-c7a1b29c64bc\"></div>\n",
       "    </div>\n",
       "<script type=\"text/javascript\">\n",
       "  \n",
       "  (function(global) {\n",
       "    function now() {\n",
       "      return new Date();\n",
       "    }\n",
       "  \n",
       "    var force = false;\n",
       "  \n",
       "    if (typeof (window._bokeh_onload_callbacks) === \"undefined\" || force === true) {\n",
       "      window._bokeh_onload_callbacks = [];\n",
       "      window._bokeh_is_loading = undefined;\n",
       "    }\n",
       "  \n",
       "  \n",
       "    \n",
       "    if (typeof (window._bokeh_timeout) === \"undefined\" || force === true) {\n",
       "      window._bokeh_timeout = Date.now() + 0;\n",
       "      window._bokeh_failed_load = false;\n",
       "    }\n",
       "  \n",
       "    var NB_LOAD_WARNING = {'data': {'text/html':\n",
       "       \"<div style='background-color: #fdd'>\\n\"+\n",
       "       \"<p>\\n\"+\n",
       "       \"BokehJS does not appear to have successfully loaded. If loading BokehJS from CDN, this \\n\"+\n",
       "       \"may be due to a slow or bad network connection. Possible fixes:\\n\"+\n",
       "       \"</p>\\n\"+\n",
       "       \"<ul>\\n\"+\n",
       "       \"<li>re-rerun `output_notebook()` to attempt to load from CDN again, or</li>\\n\"+\n",
       "       \"<li>use INLINE resources instead, as so:</li>\\n\"+\n",
       "       \"</ul>\\n\"+\n",
       "       \"<code>\\n\"+\n",
       "       \"from bokeh.resources import INLINE\\n\"+\n",
       "       \"output_notebook(resources=INLINE)\\n\"+\n",
       "       \"</code>\\n\"+\n",
       "       \"</div>\"}};\n",
       "  \n",
       "    function display_loaded() {\n",
       "      if (window.Bokeh !== undefined) {\n",
       "        document.getElementById(\"aa4670ad-33fc-4cac-8421-c7a1b29c64bc\").textContent = \"BokehJS successfully loaded.\";\n",
       "      } else if (Date.now() < window._bokeh_timeout) {\n",
       "        setTimeout(display_loaded, 100)\n",
       "      }\n",
       "    }\n",
       "  \n",
       "    function run_callbacks() {\n",
       "      window._bokeh_onload_callbacks.forEach(function(callback) { callback() });\n",
       "      delete window._bokeh_onload_callbacks\n",
       "      console.info(\"Bokeh: all callbacks have finished\");\n",
       "    }\n",
       "  \n",
       "    function load_libs(js_urls, callback) {\n",
       "      window._bokeh_onload_callbacks.push(callback);\n",
       "      if (window._bokeh_is_loading > 0) {\n",
       "        console.log(\"Bokeh: BokehJS is being loaded, scheduling callback at\", now());\n",
       "        return null;\n",
       "      }\n",
       "      if (js_urls == null || js_urls.length === 0) {\n",
       "        run_callbacks();\n",
       "        return null;\n",
       "      }\n",
       "      console.log(\"Bokeh: BokehJS not loaded, scheduling load and callback at\", now());\n",
       "      window._bokeh_is_loading = js_urls.length;\n",
       "      for (var i = 0; i < js_urls.length; i++) {\n",
       "        var url = js_urls[i];\n",
       "        var s = document.createElement('script');\n",
       "        s.src = url;\n",
       "        s.async = false;\n",
       "        s.onreadystatechange = s.onload = function() {\n",
       "          window._bokeh_is_loading--;\n",
       "          if (window._bokeh_is_loading === 0) {\n",
       "            console.log(\"Bokeh: all BokehJS libraries loaded\");\n",
       "            run_callbacks()\n",
       "          }\n",
       "        };\n",
       "        s.onerror = function() {\n",
       "          console.warn(\"failed to load library \" + url);\n",
       "        };\n",
       "        console.log(\"Bokeh: injecting script tag for BokehJS library: \", url);\n",
       "        document.getElementsByTagName(\"head\")[0].appendChild(s);\n",
       "      }\n",
       "    };var element = document.getElementById(\"aa4670ad-33fc-4cac-8421-c7a1b29c64bc\");\n",
       "    if (element == null) {\n",
       "      console.log(\"Bokeh: ERROR: autoload.js configured with elementid 'aa4670ad-33fc-4cac-8421-c7a1b29c64bc' but no matching script tag was found. \")\n",
       "      return false;\n",
       "    }\n",
       "  \n",
       "    var js_urls = [];\n",
       "  \n",
       "    var inline_js = [\n",
       "      function(Bokeh) {\n",
       "        (function() {\n",
       "          var fn = function() {\n",
       "            var docs_json = {\"9b451a41-9b57-4da7-b21f-da6c934faf4f\":{\"roots\":{\"references\":[{\"attributes\":{},\"id\":\"89084b92-4ae8-40ff-990a-57cca5a7edac\",\"type\":\"ToolEvents\"},{\"attributes\":{\"formatter\":{\"id\":\"3c9c6b4b-582a-4db5-8e3f-9b899af28891\",\"type\":\"BasicTickFormatter\"},\"plot\":{\"id\":\"e56d7f71-b428-42bd-a1a9-2352f706e244\",\"subtype\":\"Figure\",\"type\":\"Plot\"},\"ticker\":{\"id\":\"45e9e91f-d0e8-43cd-bbfa-0ffc8ac2ae8b\",\"type\":\"BasicTicker\"}},\"id\":\"0b3887ba-0b3b-4e2f-a614-715255cb3326\",\"type\":\"LinearAxis\"},{\"attributes\":{\"below\":[{\"id\":\"bd4e9542-cdf9-441e-a5d0-eba7e46b6808\",\"type\":\"LinearAxis\"}],\"left\":[{\"id\":\"0b3887ba-0b3b-4e2f-a614-715255cb3326\",\"type\":\"LinearAxis\"}],\"renderers\":[{\"id\":\"bd4e9542-cdf9-441e-a5d0-eba7e46b6808\",\"type\":\"LinearAxis\"},{\"id\":\"b58424c5-4b44-42c0-8cda-4a7e70095ef0\",\"type\":\"Grid\"},{\"id\":\"0b3887ba-0b3b-4e2f-a614-715255cb3326\",\"type\":\"LinearAxis\"},{\"id\":\"989b36a3-5c7d-4931-96f6-edf4eb63f3a2\",\"type\":\"Grid\"},{\"id\":\"17418bb8-18f2-4c56-9f06-03820727fb91\",\"type\":\"GlyphRenderer\"}],\"title\":{\"id\":\"9ae32f89-9d60-41f6-a208-8366b93da293\",\"type\":\"Title\"},\"tool_events\":{\"id\":\"89084b92-4ae8-40ff-990a-57cca5a7edac\",\"type\":\"ToolEvents\"},\"toolbar\":{\"id\":\"2ad5dffe-a3de-4a7c-bf9a-cabfeb269ee6\",\"type\":\"Toolbar\"},\"toolbar_location\":\"above\",\"x_range\":{\"id\":\"a4d478b6-97a2-43c6-a963-787ef7d34dff\",\"type\":\"DataRange1d\"},\"y_range\":{\"id\":\"e285aa8b-8d0e-4d7f-9368-99ede947a581\",\"type\":\"DataRange1d\"}},\"id\":\"e56d7f71-b428-42bd-a1a9-2352f706e244\",\"subtype\":\"Figure\",\"type\":\"Plot\"},{\"attributes\":{},\"id\":\"3c9c6b4b-582a-4db5-8e3f-9b899af28891\",\"type\":\"BasicTickFormatter\"},{\"attributes\":{\"bottom\":{\"value\":0},\"fill_color\":{\"value\":\"#1f77b4\"},\"left\":{\"field\":\"left\"},\"line_color\":{\"value\":\"#555555\"},\"right\":{\"field\":\"right\"},\"top\":{\"field\":\"top\"}},\"id\":\"5e8084eb-c611-4b75-8214-671caa17317c\",\"type\":\"Quad\"},{\"attributes\":{\"plot\":{\"id\":\"e56d7f71-b428-42bd-a1a9-2352f706e244\",\"subtype\":\"Figure\",\"type\":\"Plot\"},\"ticker\":{\"id\":\"ad8f946a-2e74-49b3-b16f-e51d3932087a\",\"type\":\"BasicTicker\"}},\"id\":\"b58424c5-4b44-42c0-8cda-4a7e70095ef0\",\"type\":\"Grid\"},{\"attributes\":{\"callback\":null},\"id\":\"a4d478b6-97a2-43c6-a963-787ef7d34dff\",\"type\":\"DataRange1d\"},{\"attributes\":{},\"id\":\"45e9e91f-d0e8-43cd-bbfa-0ffc8ac2ae8b\",\"type\":\"BasicTicker\"},{\"attributes\":{\"callback\":null},\"id\":\"e285aa8b-8d0e-4d7f-9368-99ede947a581\",\"type\":\"DataRange1d\"},{\"attributes\":{\"active_drag\":\"auto\",\"active_scroll\":\"auto\",\"active_tap\":\"auto\",\"tools\":[{\"id\":\"092e8c0e-0c6d-4594-b7f3-8545f3ee4bd2\",\"type\":\"PanTool\"},{\"id\":\"b81eddf4-30f1-434b-8203-a8ce7217e9af\",\"type\":\"WheelZoomTool\"},{\"id\":\"9ffcd910-e7a0-412a-8a9e-c62d2506182a\",\"type\":\"ResetTool\"},{\"id\":\"0848ff81-0aa6-4b80-858c-5a167541c0e9\",\"type\":\"SaveTool\"}]},\"id\":\"2ad5dffe-a3de-4a7c-bf9a-cabfeb269ee6\",\"type\":\"Toolbar\"},{\"attributes\":{\"bottom\":{\"value\":0},\"fill_alpha\":{\"value\":0.1},\"fill_color\":{\"value\":\"#1f77b4\"},\"left\":{\"field\":\"left\"},\"line_alpha\":{\"value\":0.1},\"line_color\":{\"value\":\"#1f77b4\"},\"right\":{\"field\":\"right\"},\"top\":{\"field\":\"top\"}},\"id\":\"40b34132-c15e-416c-a4ea-025e0484919c\",\"type\":\"Quad\"},{\"attributes\":{},\"id\":\"9baac355-6734-41c2-8325-79e2a94454b1\",\"type\":\"BasicTickFormatter\"},{\"attributes\":{\"plot\":{\"id\":\"e56d7f71-b428-42bd-a1a9-2352f706e244\",\"subtype\":\"Figure\",\"type\":\"Plot\"}},\"id\":\"092e8c0e-0c6d-4594-b7f3-8545f3ee4bd2\",\"type\":\"PanTool\"},{\"attributes\":{\"plot\":{\"id\":\"e56d7f71-b428-42bd-a1a9-2352f706e244\",\"subtype\":\"Figure\",\"type\":\"Plot\"}},\"id\":\"9ffcd910-e7a0-412a-8a9e-c62d2506182a\",\"type\":\"ResetTool\"},{\"attributes\":{},\"id\":\"ad8f946a-2e74-49b3-b16f-e51d3932087a\",\"type\":\"BasicTicker\"},{\"attributes\":{\"plot\":null,\"text\":\"Top-1000 words distribution\"},\"id\":\"9ae32f89-9d60-41f6-a208-8366b93da293\",\"type\":\"Title\"},{\"attributes\":{\"dimension\":1,\"plot\":{\"id\":\"e56d7f71-b428-42bd-a1a9-2352f706e244\",\"subtype\":\"Figure\",\"type\":\"Plot\"},\"ticker\":{\"id\":\"45e9e91f-d0e8-43cd-bbfa-0ffc8ac2ae8b\",\"type\":\"BasicTicker\"}},\"id\":\"989b36a3-5c7d-4931-96f6-edf4eb63f3a2\",\"type\":\"Grid\"},{\"attributes\":{\"data_source\":{\"id\":\"ef2fc0ae-d3e4-450f-994f-74eddf6a7ed6\",\"type\":\"ColumnDataSource\"},\"glyph\":{\"id\":\"5e8084eb-c611-4b75-8214-671caa17317c\",\"type\":\"Quad\"},\"hover_glyph\":null,\"nonselection_glyph\":{\"id\":\"40b34132-c15e-416c-a4ea-025e0484919c\",\"type\":\"Quad\"},\"selection_glyph\":null},\"id\":\"17418bb8-18f2-4c56-9f06-03820727fb91\",\"type\":\"GlyphRenderer\"},{\"attributes\":{\"formatter\":{\"id\":\"9baac355-6734-41c2-8325-79e2a94454b1\",\"type\":\"BasicTickFormatter\"},\"plot\":{\"id\":\"e56d7f71-b428-42bd-a1a9-2352f706e244\",\"subtype\":\"Figure\",\"type\":\"Plot\"},\"ticker\":{\"id\":\"ad8f946a-2e74-49b3-b16f-e51d3932087a\",\"type\":\"BasicTicker\"}},\"id\":\"bd4e9542-cdf9-441e-a5d0-eba7e46b6808\",\"type\":\"LinearAxis\"},{\"attributes\":{\"plot\":{\"id\":\"e56d7f71-b428-42bd-a1a9-2352f706e244\",\"subtype\":\"Figure\",\"type\":\"Plot\"}},\"id\":\"0848ff81-0aa6-4b80-858c-5a167541c0e9\",\"type\":\"SaveTool\"},{\"attributes\":{\"plot\":{\"id\":\"e56d7f71-b428-42bd-a1a9-2352f706e244\",\"subtype\":\"Figure\",\"type\":\"Plot\"}},\"id\":\"b81eddf4-30f1-434b-8203-a8ce7217e9af\",\"type\":\"WheelZoomTool\"},{\"attributes\":{\"callback\":null,\"column_names\":[\"right\",\"left\",\"top\"],\"data\":{\"left\":{\"__ndarray__\":\"AAAAAADweEAUrkfh+lCjQBSuR+H6wbFAHoXrUXjbuUAUrkfhevrAQJmZmZk5B8VAHoXrUfgTyUCjcD0KtyDNQBSuR+G6ltBA1qNwPRqd0kCZmZmZeaPUQFyPwvXYqdZAHoXrUTiw2EDgehSul7baQKNwPQr3vNxAZmZmZlbD3kAUrkfh2mTgQPUoXI8KaOFA1qNwPTpr4kC4HoXraW7jQJmZmZmZceRAehSuR8l05UBcj8L1+HfmQD0K16Moe+dAHoXrUVh+6ED/////h4HpQOB6FK63hOpAwvUoXOeH60CjcD0KF4vsQITrUbhGju1AZmZmZnaR7kBH4XoUppTvQBSuR+HqS/BAhetRuILN8ED1KFyPGk/xQGZmZmay0PFA1qNwPUpS8kBH4XoU4tPyQLgehet5VfNAKFyPwhHX80CZmZmZqVj0QArXo3BB2vRAehSuR9lb9UDrUbgecd31QFyPwvUIX/ZAzMzMzKDg9kA9CtejOGL3QK1H4XrQ4/dAHoXrUWhl+ECPwvUoAOf4QP////+XaPlAcD0K1y/q+UDgehSux2v6QFG4HoVf7fpAwvUoXPdu+0AyMzMzj/D7QKNwPQoncvxAFK5H4b7z/ECE61G4VnX9QPUoXI/u9v1AZmZmZoZ4/kDWo3A9Hvr+QEfhehS2e/9Atx6F6039/0AUrkfhcj8AQczMzMw+gABBhetRuArBAEE9Ctej1gEBQfUoXI+iQgFBrkfhem6DAUFmZmZmOsQBQR6F61EGBQJB1qNwPdJFAkGPwvUonoYCQUfhehRqxwJB/////zUIA0G4HoXrAUkDQXA9CtfNiQNBKFyPwpnKA0HhehSuZQsEQZmZmZkxTARBUbgehf2MBEEK16Nwyc0EQcL1KFyVDgVBehSuR2FPBUEzMzMzLZAFQetRuB750AVBo3A9CsURBkFcj8L1kFIGQRSuR+FckwZBzMzMzCjUBkGE61G49BQHQT0K16PAVQdB9Shcj4yWB0GtR+F6WNcHQWZmZmYkGAhBHoXrUfBYCEHWo3A9vJkIQY/C9SiI2ghBR+F6FFQbCUE=\",\"dtype\":\"float64\",\"shape\":[100]},\"right\":{\"__ndarray__\":\"FK5H4fpQo0AUrkfh+sGxQB6F61F427lAFK5H4Xr6wECZmZmZOQfFQB6F61H4E8lAo3A9CrcgzUAUrkfhupbQQNajcD0andJAmZmZmXmj1EBcj8L12KnWQB6F61E4sNhA4HoUrpe22kCjcD0K97zcQGZmZmZWw95AFK5H4dpk4ED1KFyPCmjhQNajcD06a+JAuB6F62lu40CZmZmZmXHkQHoUrkfJdOVAXI/C9fh35kA9CtejKHvnQB6F61FYfuhA/////4eB6UDgehSut4TqQML1KFznh+tAo3A9CheL7ECE61G4Ro7tQGZmZmZ2ke5AR+F6FKaU70AUrkfh6kvwQIXrUbiCzfBA9ShcjxpP8UBmZmZmstDxQNajcD1KUvJAR+F6FOLT8kC4HoXreVXzQChcj8IR1/NAmZmZmalY9EAK16NwQdr0QHoUrkfZW/VA61G4HnHd9UBcj8L1CF/2QMzMzMyg4PZAPQrXozhi90CtR+F60OP3QB6F61FoZfhAj8L1KADn+ED/////l2j5QHA9Ctcv6vlA4HoUrsdr+kBRuB6FX+36QML1KFz3bvtAMjMzM4/w+0CjcD0KJ3L8QBSuR+G+8/xAhOtRuFZ1/UD1KFyP7vb9QGZmZmaGeP5A1qNwPR76/kBH4XoUtnv/QLcehetN/f9AFK5H4XI/AEHMzMzMPoAAQYXrUbgKwQBBPQrXo9YBAUH1KFyPokIBQa5H4XpugwFBZmZmZjrEAUEehetRBgUCQdajcD3SRQJBj8L1KJ6GAkFH4XoUascCQf////81CANBuB6F6wFJA0FwPQrXzYkDQShcj8KZygNB4XoUrmULBEGZmZmZMUwEQVG4HoX9jARBCtejcMnNBEHC9ShclQ4FQXoUrkdhTwVBMzMzMy2QBUHrUbge+dAFQaNwPQrFEQZBXI/C9ZBSBkEUrkfhXJMGQczMzMwo1AZBhOtRuPQUB0E9CtejwFUHQfUoXI+MlgdBrUfheljXB0FmZmZmJBgIQR6F61HwWAhB1qNwPbyZCEGPwvUoiNoIQUfhehRUGwlBAAAAACBcCUE=\",\"dtype\":\"float64\",\"shape\":[100]},\"top\":{\"__ndarray__\":\"ZBqztziyOT+SMBnr7vAAP6NIXWW4VO0+DGJUw5U04j59rPUCvi7gPizNEURFQNY+DGJUw5U00j59rPUCvi7APsKCcAQdRsg+eaz1Ar4uwD55rPUCvi6gPoGs9QK+LrA+gaz1Ar4uwD55rPUCvi6gPnms9QK+LrA+gaz1Ar4uoD4AAAAAAAAAAIGs9QK+LqA+AAAAAAAAAAAAAAAAAAAAAAAAAAAAAAAAAAAAAAAAAAAAAAAAAAAAAIGs9QK+LqA+AAAAAAAAAAAAAAAAAAAAAAAAAAAAAAAAAAAAAAAAAAAAAAAAAAAAAAAAAAAAAAAAgaz1Ar4uoD4AAAAAAAAAAHGs9QK+LqA+AAAAAAAAAABxrPUCvi6gPpGs9QK+LqA+AAAAAAAAAABxrPUCvi6gPgAAAAAAAAAAAAAAAAAAAAAAAAAAAAAAAAAAAAAAAAAAAAAAAAAAAAAAAAAAAAAAAAAAAAAAAAAAcaz1Ar4uoD4AAAAAAAAAAAAAAAAAAAAAAAAAAAAAAAAAAAAAAAAAAAAAAAAAAAAAAAAAAAAAAAAAAAAAAAAAAAAAAAAAAAAAAAAAAAAAAABxrPUCvi6gPgAAAAAAAAAAAAAAAAAAAAAAAAAAAAAAAAAAAAAAAAAAkaz1Ar4uoD4AAAAAAAAAAAAAAAAAAAAAAAAAAAAAAAAAAAAAAAAAAAAAAAAAAAAAAAAAAAAAAAAAAAAAAAAAAAAAAAAAAAAAAAAAAAAAAAAAAAAAAAAAAJGs9QK+LqA+AAAAAAAAAAAAAAAAAAAAAAAAAAAAAAAAAAAAAAAAAAAAAAAAAAAAAAAAAAAAAAAAAAAAAAAAAAAAAAAAAAAAAAAAAAAAAAAAAAAAAAAAAAAAAAAAAAAAAAAAAAAAAAAAAAAAAAAAAAAAAAAAAAAAAAAAAAAAAAAAAAAAAAAAAAAAAAAAAAAAAAAAAAAAAAAAAAAAAAAAAAAAAAAAAAAAAAAAAAAAAAAAAAAAAAAAAAAAAAAAAAAAAAAAAAAAAAAAAAAAAAAAAAAAAAAAAAAAAAAAAAAAAAAAUaz1Ar4uoD4=\",\"dtype\":\"float64\",\"shape\":[100]}}},\"id\":\"ef2fc0ae-d3e4-450f-994f-74eddf6a7ed6\",\"type\":\"ColumnDataSource\"}],\"root_ids\":[\"e56d7f71-b428-42bd-a1a9-2352f706e244\"]},\"title\":\"Bokeh Application\",\"version\":\"0.12.4\"}};\n",
       "            var render_items = [{\"docid\":\"9b451a41-9b57-4da7-b21f-da6c934faf4f\",\"elementid\":\"aa4670ad-33fc-4cac-8421-c7a1b29c64bc\",\"modelid\":\"e56d7f71-b428-42bd-a1a9-2352f706e244\"}];\n",
       "            \n",
       "            Bokeh.embed.embed_items(docs_json, render_items);\n",
       "          };\n",
       "          if (document.readyState != \"loading\") fn();\n",
       "          else document.addEventListener(\"DOMContentLoaded\", fn);\n",
       "        })();\n",
       "      },\n",
       "      function(Bokeh) {\n",
       "      }\n",
       "    ];\n",
       "  \n",
       "    function run_inline_js() {\n",
       "      \n",
       "      if ((window.Bokeh !== undefined) || (force === true)) {\n",
       "        for (var i = 0; i < inline_js.length; i++) {\n",
       "          inline_js[i](window.Bokeh);\n",
       "        }if (force === true) {\n",
       "          display_loaded();\n",
       "        }} else if (Date.now() < window._bokeh_timeout) {\n",
       "        setTimeout(run_inline_js, 100);\n",
       "      } else if (!window._bokeh_failed_load) {\n",
       "        console.log(\"Bokeh: BokehJS failed to load within specified timeout.\");\n",
       "        window._bokeh_failed_load = true;\n",
       "      } else if (force !== true) {\n",
       "        var cell = $(document.getElementById(\"aa4670ad-33fc-4cac-8421-c7a1b29c64bc\")).parents('.cell').data().cell;\n",
       "        cell.output_area.append_execute_result(NB_LOAD_WARNING)\n",
       "      }\n",
       "  \n",
       "    }\n",
       "  \n",
       "    if (window._bokeh_is_loading === 0) {\n",
       "      console.log(\"Bokeh: BokehJS loaded, going straight to plotting\");\n",
       "      run_inline_js();\n",
       "    } else {\n",
       "      load_libs(js_urls, function() {\n",
       "        console.log(\"Bokeh: BokehJS plotting callback run at\", now());\n",
       "        run_inline_js();\n",
       "      });\n",
       "    }\n",
       "  }(this));\n",
       "</script>"
      ]
     },
     "metadata": {},
     "output_type": "display_data"
    }
   ],
   "source": [
    "hist, edges = np.histogram(counts_ted_top1000, density=True, bins=100, normed=True)\n",
    "\n",
    "p = figure(tools=\"pan,wheel_zoom,reset,save\",\n",
    "           toolbar_location=\"above\",\n",
    "           title=\"Top-1000 words distribution\")\n",
    "p.quad(top=hist, bottom=0, left=edges[:-1], right=edges[1:], line_color=\"#555555\")\n",
    "show(p)"
   ]
  },
  {
   "cell_type": "markdown",
   "metadata": {},
   "source": [
    "### Part 3: Train Word2Vec"
   ]
  },
  {
   "cell_type": "code",
   "execution_count": 45,
   "metadata": {},
   "outputs": [
    {
     "name": "stderr",
     "output_type": "stream",
     "text": [
      "DEBUG: nvcc STDOUT mod.cu\n",
      "   Creating library C:/Users/Joris/AppData/Local/Theano/compiledir_Windows-10-10.0.15063-SP0-Intel64_Family_6_Model_60_Stepping_3_GenuineIntel-3.5.2-64/cuda_ndarray/cuda_ndarray.lib and object C:/Users/Joris/AppData/Local/Theano/compiledir_Windows-10-10.0.15063-SP0-Intel64_Family_6_Model_60_Stepping_3_GenuineIntel-3.5.2-64/cuda_ndarray/cuda_ndarray.exp\n",
      "\n",
      "DEBUG: nvcc STDOUT mod.cu\n",
      "   Creating library C:/Users/Joris/AppData/Local/Theano/compiledir_Windows-10-10.0.15063-SP0-Intel64_Family_6_Model_60_Stepping_3_GenuineIntel-3.5.2-64/tmpdsob9tly/m91973e5c136ea49268a916ff971b7377.lib and object C:/Users/Joris/AppData/Local/Theano/compiledir_Windows-10-10.0.15063-SP0-Intel64_Family_6_Model_60_Stepping_3_GenuineIntel-3.5.2-64/tmpdsob9tly/m91973e5c136ea49268a916ff971b7377.exp\n",
      "\n",
      "Using gpu device 0: GeForce GTX 1060 6GB (CNMeM is disabled, cuDNN 5105)\n",
      "d:\\anaconda\\lib\\site-packages\\theano\\sandbox\\cuda\\__init__.py:600: UserWarning: Your cuDNN version is more recent than the one Theano officially supports. If you see any problems, try updating Theano or downgrading cuDNN to version 5.\n",
      "  warnings.warn(warn)\n",
      "DEBUG: nvcc STDOUT mod.cu\n",
      "   Creating library C:/Users/Joris/AppData/Local/Theano/compiledir_Windows-10-10.0.15063-SP0-Intel64_Family_6_Model_60_Stepping_3_GenuineIntel-3.5.2-64/tmpfen8g7aq/meb404c8cd39208f6884dd773b584b7d7.lib and object C:/Users/Joris/AppData/Local/Theano/compiledir_Windows-10-10.0.15063-SP0-Intel64_Family_6_Model_60_Stepping_3_GenuineIntel-3.5.2-64/tmpfen8g7aq/meb404c8cd39208f6884dd773b584b7d7.exp\n",
      "\n",
      "DEBUG: nvcc STDOUT mod.cu\n",
      "   Creating library C:/Users/Joris/AppData/Local/Theano/compiledir_Windows-10-10.0.15063-SP0-Intel64_Family_6_Model_60_Stepping_3_GenuineIntel-3.5.2-64/tmp_28yhk59/md9b7b5ef5d727b2e8e3d2cc34bb9d0eb.lib and object C:/Users/Joris/AppData/Local/Theano/compiledir_Windows-10-10.0.15063-SP0-Intel64_Family_6_Model_60_Stepping_3_GenuineIntel-3.5.2-64/tmp_28yhk59/md9b7b5ef5d727b2e8e3d2cc34bb9d0eb.exp\n",
      "\n"
     ]
    }
   ],
   "source": [
    "from gensim.models import Word2Vec"
   ]
  },
  {
   "cell_type": "code",
   "execution_count": 46,
   "metadata": {
    "collapsed": true
   },
   "outputs": [],
   "source": [
    "model_ted = Word2Vec(sentences_ted, min_count=10)"
   ]
  },
  {
   "cell_type": "markdown",
   "metadata": {},
   "source": [
    "### Part 4: Ted Learnt Representations"
   ]
  },
  {
   "cell_type": "markdown",
   "metadata": {},
   "source": [
    "Finding similar words: (see gensim docs for more functionality of `most_similar`)"
   ]
  },
  {
   "cell_type": "code",
   "execution_count": 48,
   "metadata": {},
   "outputs": [
    {
     "data": {
      "text/plain": [
       "[('woman', 0.8377845883369446),\n",
       " ('guy', 0.8177353739738464),\n",
       " ('lady', 0.7660814523696899),\n",
       " ('girl', 0.7508484125137329),\n",
       " ('boy', 0.7307843565940857),\n",
       " ('gentleman', 0.7298948764801025),\n",
       " ('rabbi', 0.7226510643959045),\n",
       " ('soldier', 0.7217330932617188),\n",
       " ('poet', 0.6944546103477478),\n",
       " ('kid', 0.6891640424728394)]"
      ]
     },
     "execution_count": 48,
     "metadata": {},
     "output_type": "execute_result"
    }
   ],
   "source": [
    "model_ted.most_similar(\"man\")"
   ]
  },
  {
   "cell_type": "code",
   "execution_count": 49,
   "metadata": {},
   "outputs": [
    {
     "data": {
      "text/plain": [
       "[('machine', 0.7046480774879456),\n",
       " ('robot', 0.7030830979347229),\n",
       " ('software', 0.690647304058075),\n",
       " ('device', 0.6814091205596924),\n",
       " ('simulation', 0.6573764085769653),\n",
       " ('chip', 0.6460529565811157),\n",
       " ('game', 0.642701268196106),\n",
       " ('program', 0.6365665197372437),\n",
       " ('3d', 0.6309480667114258),\n",
       " ('camera', 0.6286656260490417)]"
      ]
     },
     "execution_count": 49,
     "metadata": {},
     "output_type": "execute_result"
    }
   ],
   "source": [
    "model_ted.most_similar(\"computer\")"
   ]
  },
  {
   "cell_type": "code",
   "execution_count": 50,
   "metadata": {
    "collapsed": true
   },
   "outputs": [],
   "source": [
    "# ..."
   ]
  },
  {
   "cell_type": "markdown",
   "metadata": {},
   "source": [
    "#### t-SNE visualization\n",
    "To use the t-SNE code below, first put a list of the top 1000 words (as strings) into a variable `words_top_ted`. The following code gets the corresponding vectors from the model, assuming it's called `model_ted`:"
   ]
  },
  {
   "cell_type": "code",
   "execution_count": 69,
   "metadata": {},
   "outputs": [],
   "source": [
    "# This assumes words_top_ted is a list of strings, the top 1000 words\n",
    "words_top_vec_ted = model_ted[words_top_ted]"
   ]
  },
  {
   "cell_type": "code",
   "execution_count": 70,
   "metadata": {},
   "outputs": [],
   "source": [
    "from sklearn.manifold import TSNE\n",
    "tsne = TSNE(n_components=2, random_state=0)\n",
    "words_top_ted_tsne = tsne.fit_transform(words_top_vec_ted)"
   ]
  },
  {
   "cell_type": "code",
   "execution_count": 71,
   "metadata": {},
   "outputs": [
    {
     "data": {
      "text/html": [
       "\n",
       "\n",
       "    <div class=\"bk-root\">\n",
       "        <div class=\"bk-plotdiv\" id=\"b7b27596-42d2-424a-9751-69bc1eea2cb1\"></div>\n",
       "    </div>\n",
       "<script type=\"text/javascript\">\n",
       "  \n",
       "  (function(global) {\n",
       "    function now() {\n",
       "      return new Date();\n",
       "    }\n",
       "  \n",
       "    var force = false;\n",
       "  \n",
       "    if (typeof (window._bokeh_onload_callbacks) === \"undefined\" || force === true) {\n",
       "      window._bokeh_onload_callbacks = [];\n",
       "      window._bokeh_is_loading = undefined;\n",
       "    }\n",
       "  \n",
       "  \n",
       "    \n",
       "    if (typeof (window._bokeh_timeout) === \"undefined\" || force === true) {\n",
       "      window._bokeh_timeout = Date.now() + 0;\n",
       "      window._bokeh_failed_load = false;\n",
       "    }\n",
       "  \n",
       "    var NB_LOAD_WARNING = {'data': {'text/html':\n",
       "       \"<div style='background-color: #fdd'>\\n\"+\n",
       "       \"<p>\\n\"+\n",
       "       \"BokehJS does not appear to have successfully loaded. If loading BokehJS from CDN, this \\n\"+\n",
       "       \"may be due to a slow or bad network connection. Possible fixes:\\n\"+\n",
       "       \"</p>\\n\"+\n",
       "       \"<ul>\\n\"+\n",
       "       \"<li>re-rerun `output_notebook()` to attempt to load from CDN again, or</li>\\n\"+\n",
       "       \"<li>use INLINE resources instead, as so:</li>\\n\"+\n",
       "       \"</ul>\\n\"+\n",
       "       \"<code>\\n\"+\n",
       "       \"from bokeh.resources import INLINE\\n\"+\n",
       "       \"output_notebook(resources=INLINE)\\n\"+\n",
       "       \"</code>\\n\"+\n",
       "       \"</div>\"}};\n",
       "  \n",
       "    function display_loaded() {\n",
       "      if (window.Bokeh !== undefined) {\n",
       "        document.getElementById(\"b7b27596-42d2-424a-9751-69bc1eea2cb1\").textContent = \"BokehJS successfully loaded.\";\n",
       "      } else if (Date.now() < window._bokeh_timeout) {\n",
       "        setTimeout(display_loaded, 100)\n",
       "      }\n",
       "    }\n",
       "  \n",
       "    function run_callbacks() {\n",
       "      window._bokeh_onload_callbacks.forEach(function(callback) { callback() });\n",
       "      delete window._bokeh_onload_callbacks\n",
       "      console.info(\"Bokeh: all callbacks have finished\");\n",
       "    }\n",
       "  \n",
       "    function load_libs(js_urls, callback) {\n",
       "      window._bokeh_onload_callbacks.push(callback);\n",
       "      if (window._bokeh_is_loading > 0) {\n",
       "        console.log(\"Bokeh: BokehJS is being loaded, scheduling callback at\", now());\n",
       "        return null;\n",
       "      }\n",
       "      if (js_urls == null || js_urls.length === 0) {\n",
       "        run_callbacks();\n",
       "        return null;\n",
       "      }\n",
       "      console.log(\"Bokeh: BokehJS not loaded, scheduling load and callback at\", now());\n",
       "      window._bokeh_is_loading = js_urls.length;\n",
       "      for (var i = 0; i < js_urls.length; i++) {\n",
       "        var url = js_urls[i];\n",
       "        var s = document.createElement('script');\n",
       "        s.src = url;\n",
       "        s.async = false;\n",
       "        s.onreadystatechange = s.onload = function() {\n",
       "          window._bokeh_is_loading--;\n",
       "          if (window._bokeh_is_loading === 0) {\n",
       "            console.log(\"Bokeh: all BokehJS libraries loaded\");\n",
       "            run_callbacks()\n",
       "          }\n",
       "        };\n",
       "        s.onerror = function() {\n",
       "          console.warn(\"failed to load library \" + url);\n",
       "        };\n",
       "        console.log(\"Bokeh: injecting script tag for BokehJS library: \", url);\n",
       "        document.getElementsByTagName(\"head\")[0].appendChild(s);\n",
       "      }\n",
       "    };var element = document.getElementById(\"b7b27596-42d2-424a-9751-69bc1eea2cb1\");\n",
       "    if (element == null) {\n",
       "      console.log(\"Bokeh: ERROR: autoload.js configured with elementid 'b7b27596-42d2-424a-9751-69bc1eea2cb1' but no matching script tag was found. \")\n",
       "      return false;\n",
       "    }\n",
       "  \n",
       "    var js_urls = [];\n",
       "  \n",
       "    var inline_js = [\n",
       "      function(Bokeh) {\n",
       "        (function() {\n",
       "          var fn = function() {\n",
       "            var docs_json = {\"4220287e-6365-47d6-b2ed-9d5fba72e213\":{\"roots\":{\"references\":[{\"attributes\":{\"callback\":null,\"column_names\":[\"x2\",\"names\",\"x1\"],\"data\":{\"names\":[\"the\",\"and\",\"to\",\"of\",\"that\",\"in\",\"it\",\"you\",\"we\",\"is\",\"this\",\"so\",\"they\",\"was\",\"for\",\"are\",\"have\",\"but\",\"what\",\"on\",\"with\",\"can\",\"about\",\"there\",\"be\",\"as\",\"at\",\"all\",\"not\",\"do\",\"my\",\"one\",\"re\",\"people\",\"like\",\"if\",\"from\",\"now\",\"our\",\"he\",\"an\",\"just\",\"these\",\"or\",\"when\",\"because\",\"very\",\"me\",\"out\",\"by\",\"them\",\"how\",\"know\",\"up\",\"going\",\"had\",\"more\",\"think\",\"who\",\"were\",\"see\",\"your\",\"their\",\"which\",\"would\",\"here\",\"really\",\"get\",\"ve\",\"then\",\"world\",\"us\",\"time\",\"some\",\"has\",\"don\",\"actually\",\"into\",\"way\",\"where\",\"will\",\"years\",\"things\",\"other\",\"no\",\"could\",\"go\",\"well\",\"want\",\"been\",\"make\",\"right\",\"she\",\"said\",\"something\",\"those\",\"first\",\"two\",\"than\",\"much\",\"also\",\"look\",\"new\",\"thing\",\"little\",\"got\",\"back\",\"over\",\"most\",\"say\",\"even\",\"his\",\"life\",\"only\",\"work\",\"many\",\"take\",\"need\",\"did\",\"lot\",\"kind\",\"why\",\"good\",\"around\",\"every\",\"different\",\"down\",\"ll\",\"let\",\"her\",\"through\",\"same\",\"being\",\"come\",\"day\",\"year\",\"three\",\"use\",\"doing\",\"put\",\"called\",\"any\",\"today\",\"percent\",\"made\",\"after\",\"thank\",\"tell\",\"great\",\"human\",\"find\",\"didn\",\"fact\",\"talk\",\"change\",\"started\",\"another\",\"idea\",\"big\",\"last\",\"own\",\"before\",\"its\",\"never\",\"should\",\"better\",\"give\",\"thought\",\"went\",\"might\",\"important\",\"000\",\"again\",\"able\",\"together\",\"still\",\"problem\",\"off\",\"next\",\"part\",\"course\",\"system\",\"him\",\"does\",\"each\",\"start\",\"show\",\"long\",\"ago\",\"story\",\"came\",\"brain\",\"few\",\"bit\",\"between\",\"used\",\"place\",\"technology\",\"women\",\"too\",\"old\",\"mean\",\"data\",\"water\",\"looking\",\"question\",\"maybe\",\"found\",\"love\",\"doesn\",\"end\",\"example\",\"10\",\"done\",\"point\",\"four\",\"real\",\"wanted\",\"ever\",\"understand\",\"school\",\"sort\",\"live\",\"call\",\"whole\",\"children\",\"always\",\"trying\",\"may\",\"person\",\"away\",\"believe\",\"feel\",\"try\",\"million\",\"working\",\"help\",\"everything\",\"five\",\"country\",\"thinking\",\"second\",\"using\",\"information\",\"money\",\"means\",\"took\",\"power\",\"times\",\"high\",\"space\",\"number\",\"kids\",\"home\",\"become\",\"create\",\"small\",\"design\",\"making\",\"best\",\"left\",\"getting\",\"future\",\"enough\",\"man\",\"quite\",\"city\",\"without\",\"sense\",\"happened\",\"comes\",\"social\",\"probably\",\"less\",\"light\",\"talking\",\"energy\",\"am\",\"building\",\"science\",\"food\",\"body\",\"told\",\"interesting\",\"half\",\"ask\",\"pretty\",\"hard\",\"play\",\"anything\",\"lives\",\"countries\",\"coming\",\"such\",\"family\",\"stuff\",\"dollars\",\"moment\",\"earth\",\"20\",\"imagine\",\"across\",\"side\",\"while\",\"saw\",\"happen\",\"okay\",\"once\",\"build\",\"having\",\"men\",\"later\",\"experience\",\"makes\",\"asked\",\"living\",\"seen\",\"says\",\"room\",\"hand\",\"simple\",\"health\",\"ways\",\"else\",\"case\",\"almost\",\"yet\",\"young\",\"days\",\"nothing\",\"bad\",\"care\",\"happens\",\"goes\",\"move\",\"states\",\"reason\",\"computer\",\"open\",\"africa\",\"learn\",\"process\",\"inside\",\"someone\",\"six\",\"far\",\"mind\",\"project\",\"remember\",\"single\",\"picture\",\"both\",\"whether\",\"problems\",\"community\",\"saying\",\"basically\",\"already\",\"within\",\"looked\",\"myself\",\"billion\",\"often\",\"possible\",\"business\",\"planet\",\"global\",\"everybody\",\"top\",\"sure\",\"public\",\"set\",\"wrong\",\"car\",\"book\",\"keep\",\"yes\",\"answer\",\"oh\",\"sometimes\",\"hope\",\"true\",\"history\",\"war\",\"child\",\"guy\",\"instead\",\"months\",\"ideas\",\"looks\",\"matter\",\"government\",\"amazing\",\"united\",\"since\",\"cells\",\"bring\",\"age\",\"job\",\"heard\",\"until\",\"face\",\"wasn\",\"100\",\"read\",\"control\",\"isn\",\"research\",\"30\",\"words\",\"group\",\"under\",\"self\",\"somebody\",\"built\",\"state\",\"woman\",\"turn\",\"friends\",\"beautiful\",\"line\",\"knew\",\"couple\",\"order\",\"form\",\"yeah\",\"internet\",\"middle\",\"music\",\"piece\",\"nature\",\"head\",\"though\",\"stop\",\"everyone\",\"50\",\"places\",\"video\",\"language\",\"learned\",\"run\",\"night\",\"decided\",\"word\",\"study\",\"cancer\",\"taking\",\"works\",\"became\",\"exactly\",\"species\",\"completely\",\"society\",\"education\",\"against\",\"stories\",\"large\",\"share\",\"level\",\"heart\",\"america\",\"model\",\"questions\",\"gets\",\"mother\",\"god\",\"company\",\"turns\",\"ourselves\",\"happening\",\"hear\",\"art\",\"themselves\",\"must\",\"itself\",\"rather\",\"kinds\",\"students\",\"name\",\"hours\",\"disease\",\"front\",\"house\",\"huge\",\"couldn\",\"created\",\"universe\",\"ok\",\"animals\",\"american\",\"environment\",\"worked\",\"minutes\",\"ones\",\"black\",\"perhaps\",\"past\",\"third\",\"along\",\"finally\",\"others\",\"early\",\"sound\",\"game\",\"thousands\",\"century\",\"least\",\"based\",\"per\",\"ted\",\"lots\",\"figure\",\"free\",\"particular\",\"guys\",\"happy\",\"news\",\"learning\",\"entire\",\"won\",\"gave\",\"machine\",\"india\",\"during\",\"systems\",\"air\",\"difference\",\"outside\",\"natural\",\"taken\",\"seven\",\"changed\",\"given\",\"leave\",\"cell\",\"15\",\"close\",\"behind\",\"cities\",\"full\",\"scale\",\"difficult\",\"china\",\"takes\",\"companies\",\"yourself\",\"area\",\"reality\",\"seeing\",\"easy\",\"turned\",\"cost\",\"eyes\",\"moving\",\"team\",\"population\",\"culture\",\"york\",\"hands\",\"whatever\",\"began\",\"needs\",\"terms\",\"image\",\"simply\",\"needed\",\"beginning\",\"father\",\"local\",\"realized\",\"media\",\"death\",\"parents\",\"view\",\"walk\",\"white\",\"market\",\"parts\",\"ocean\",\"eight\",\"economic\",\"powerful\",\"week\",\"known\",\"size\",\"felt\",\"humans\",\"certain\",\"spend\",\"longer\",\"phone\",\"wonderful\",\"cannot\",\"grow\",\"common\",\"center\",\"tried\",\"fish\",\"land\",\"oil\",\"political\",\"deal\",\"interested\",\"red\",\"gone\",\"amount\",\"weeks\",\"spent\",\"opportunity\",\"lost\",\"paper\",\"quickly\",\"national\",\"blue\",\"step\",\"poor\",\"green\",\"buy\",\"wouldn\",\"growth\",\"either\",\"patients\",\"sitting\",\"ability\",\"changes\",\"write\",\"challenge\",\"south\",\"low\",\"growing\",\"friend\",\"field\",\"shows\",\"rest\",\"born\",\"climate\",\"40\",\"test\",\"street\",\"incredible\",\"surface\",\"average\",\"morning\",\"program\",\"physical\",\"value\",\"pay\",\"scientists\",\"girl\",\"hundreds\",\"feeling\",\"behavior\",\"met\",\"economy\",\"dna\",\"complex\",\"access\",\"risk\",\"animal\",\"structure\",\"feet\",\"attention\",\"anyone\",\"areas\",\"deep\",\"watch\",\"short\",\"absolutely\",\"brought\",\"speak\",\"die\",\"bottom\",\"numbers\",\"audience\",\"stage\",\"realize\",\"law\",\"images\",\"wrote\",\"understanding\",\"knowledge\",\"books\",\"literally\",\"movement\",\"giving\",\"ground\",\"eat\",\"force\",\"alone\",\"seems\",\"telling\",\"starting\",\"hold\",\"nice\",\"forward\",\"sea\",\"developed\",\"kid\",\"individual\",\"millions\",\"support\",\"running\",\"miles\",\"tools\",\"online\",\"result\",\"act\",\"technologies\",\"medical\",\"north\",\"development\",\"lab\",\"blood\",\"fear\",\"nobody\",\"map\",\"personal\",\"issue\",\"voice\",\"material\",\"key\",\"recently\",\"12\",\"theory\",\"cut\",\"cars\",\"fast\",\"sun\",\"changing\",\"clear\",\"playing\",\"especially\",\"soon\",\"girls\",\"patient\",\"choice\",\"fly\",\"creating\",\"normal\",\"relationship\",\"europe\",\"talked\",\"discovered\",\"gives\",\"generation\",\"dark\",\"type\",\"showed\",\"seem\",\"industry\",\"asking\",\"chance\",\"rate\",\"fun\",\"issues\",\"color\",\"designed\",\"hour\",\"computers\",\"class\",\"several\",\"university\",\"innovation\",\"english\",\"tiny\",\"save\",\"allow\",\"focus\",\"solve\",\"digital\",\"developing\",\"film\",\"network\",\"special\",\"wall\",\"baby\",\"situation\",\"solution\",\"reasons\",\"box\",\"knows\",\"stand\",\"dead\",\"meet\",\"anybody\",\"begin\",\"haven\",\"impact\",\"term\",\"pictures\",\"beyond\",\"please\",\"ice\",\"produce\",\"shape\",\"non\",\"cool\",\"robot\",\"resources\",\"stay\",\"likely\",\"groups\",\"rights\",\"major\",\"available\",\"truth\",\"evidence\",\"experiment\",\"writing\",\"cause\",\"obviously\",\"modern\",\"drug\",\"becomes\",\"incredibly\",\"bigger\",\"guess\",\"aren\",\"nine\",\"product\",\"drugs\",\"lived\",\"involved\",\"month\",\"google\",\"perfect\",\"similar\",\"putting\",\"effect\",\"eye\",\"pick\",\"message\",\"quality\",\"web\",\"violence\",\"security\",\"evolution\",\"office\",\"general\",\"solar\",\"indeed\",\"basic\",\"towards\",\"drive\",\"present\",\"worth\",\"send\",\"listen\",\"revolution\",\"hundred\",\"explain\",\"died\",\"certainly\",\"teach\",\"ready\",\"25\",\"journey\",\"hit\",\"walking\",\"led\",\"approach\",\"international\",\"200\",\"games\",\"scientific\",\"potential\",\"chinese\",\"crazy\",\"60\",\"communities\",\"device\",\"source\",\"camera\",\"carbon\",\"sex\",\"rules\",\"sounds\",\"boy\",\"reach\",\"starts\",\"examples\",\"west\",\"software\",\"measure\",\"success\",\"particularly\",\"totally\",\"suddenly\",\"action\",\"higher\",\"college\",\"code\",\"eventually\",\"democracy\",\"sit\",\"minute\",\"among\",\"largest\",\"hospital\",\"showing\",\"notice\",\"period\",\"develop\",\"mass\",\"dream\",\"onto\",\"plants\",\"break\",\"memory\",\"add\",\"favorite\",\"zero\",\"11\",\"everywhere\",\"schools\",\"moved\",\"response\",\"speed\",\"wants\",\"extremely\",\"individuals\",\"movie\",\"wait\",\"table\",\"anyway\",\"follow\",\"medicine\",\"trust\",\"plant\",\"biggest\",\"watching\",\"organization\",\"creative\",\"road\",\"worse\",\"choose\",\"500\",\"results\",\"lead\",\"exciting\",\"materials\",\"grew\",\"jobs\",\"poverty\",\"positive\",\"plan\",\"east\",\"safe\",\"strong\",\"fall\",\"essentially\",\"door\",\"object\",\"son\",\"further\",\"continue\",\"vision\",\"happiness\",\"doctor\",\"student\",\"including\",\"objects\",\"named\",\"role\",\"extraordinary\",\"standing\",\"leaders\",\"projects\",\"usually\",\"skin\",\"conversation\",\"african\",\"allowed\",\"models\",\"supposed\",\"faster\",\"interest\",\"police\",\"fight\",\"families\",\"tree\",\"connected\",\"screen\",\"cases\",\"goal\",\"somewhere\",\"finding\",\"shown\",\"buildings\",\"older\",\"meaning\",\"teachers\",\"expect\",\"fire\",\"decision\",\"taught\",\"80\",\"village\",\"mine\",\"freedom\"],\"x1\":{\"__ndarray__\":\"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\",\"dtype\":\"float64\",\"shape\":[1000]},\"x2\":{\"__ndarray__\":\"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\",\"dtype\":\"float64\",\"shape\":[1000]}}},\"id\":\"0d290fd2-33d6-4151-b51b-1361b0c9734d\",\"type\":\"ColumnDataSource\"},{\"attributes\":{\"callback\":null},\"id\":\"0e00158a-207d-42fb-8590-8168cc866d19\",\"type\":\"DataRange1d\"},{\"attributes\":{\"formatter\":{\"id\":\"f32f7f85-23b7-4bfb-b483-a0ad2976d81d\",\"type\":\"BasicTickFormatter\"},\"plot\":{\"id\":\"82ca85b9-4467-43e9-ac78-89d700ca94e9\",\"subtype\":\"Figure\",\"type\":\"Plot\"},\"ticker\":{\"id\":\"4fca17ad-cfad-4f5d-a3a5-120061ac91d5\",\"type\":\"BasicTicker\"}},\"id\":\"4076b502-6f26-40b4-a034-1300d3c4da85\",\"type\":\"LinearAxis\"},{\"attributes\":{},\"id\":\"4fca17ad-cfad-4f5d-a3a5-120061ac91d5\",\"type\":\"BasicTicker\"},{\"attributes\":{\"data_source\":{\"id\":\"0d290fd2-33d6-4151-b51b-1361b0c9734d\",\"type\":\"ColumnDataSource\"},\"glyph\":{\"id\":\"b789094e-b98f-4ddf-addd-779f9d0f8ca8\",\"type\":\"Circle\"},\"hover_glyph\":null,\"nonselection_glyph\":{\"id\":\"30e6eb14-ae53-43ec-bbdb-64d439452447\",\"type\":\"Circle\"},\"selection_glyph\":null},\"id\":\"4e2cfea0-83bf-4b16-8921-57dff5b777e3\",\"type\":\"GlyphRenderer\"},{\"attributes\":{\"dimension\":1,\"plot\":{\"id\":\"82ca85b9-4467-43e9-ac78-89d700ca94e9\",\"subtype\":\"Figure\",\"type\":\"Plot\"},\"ticker\":{\"id\":\"639c00e0-a601-4f4c-b2b6-eda5bc04dcc4\",\"type\":\"BasicTicker\"}},\"id\":\"e33dbce7-0a93-4ab9-a956-da479f81babb\",\"type\":\"Grid\"},{\"attributes\":{},\"id\":\"639c00e0-a601-4f4c-b2b6-eda5bc04dcc4\",\"type\":\"BasicTicker\"},{\"attributes\":{\"fill_color\":{\"value\":\"#1f77b4\"},\"line_color\":{\"value\":\"#1f77b4\"},\"size\":{\"units\":\"screen\",\"value\":8},\"x\":{\"field\":\"x1\"},\"y\":{\"field\":\"x2\"}},\"id\":\"b789094e-b98f-4ddf-addd-779f9d0f8ca8\",\"type\":\"Circle\"},{\"attributes\":{\"active_drag\":\"auto\",\"active_scroll\":\"auto\",\"active_tap\":\"auto\",\"tools\":[{\"id\":\"57261ee1-c94e-4747-a676-0c163ac6d87e\",\"type\":\"PanTool\"},{\"id\":\"46adabe2-2306-43f0-aeeb-352d3a8871b0\",\"type\":\"WheelZoomTool\"},{\"id\":\"39a3412f-041a-4a24-90d6-c309fbfba3fe\",\"type\":\"ResetTool\"},{\"id\":\"068204b8-4f3a-4520-a792-9271e836377e\",\"type\":\"SaveTool\"}]},\"id\":\"84f39ad7-1329-4b33-a6c6-e5b4c3c72b5a\",\"type\":\"Toolbar\"},{\"attributes\":{\"fill_alpha\":{\"value\":0.1},\"fill_color\":{\"value\":\"#1f77b4\"},\"line_alpha\":{\"value\":0.1},\"line_color\":{\"value\":\"#1f77b4\"},\"size\":{\"units\":\"screen\",\"value\":8},\"x\":{\"field\":\"x1\"},\"y\":{\"field\":\"x2\"}},\"id\":\"30e6eb14-ae53-43ec-bbdb-64d439452447\",\"type\":\"Circle\"},{\"attributes\":{\"plot\":null,\"text\":\"word2vec T-SNE for most common words\"},\"id\":\"4453a30c-beed-45ea-9dc7-4057af323b65\",\"type\":\"Title\"},{\"attributes\":{\"plot\":{\"id\":\"82ca85b9-4467-43e9-ac78-89d700ca94e9\",\"subtype\":\"Figure\",\"type\":\"Plot\"}},\"id\":\"46adabe2-2306-43f0-aeeb-352d3a8871b0\",\"type\":\"WheelZoomTool\"},{\"attributes\":{},\"id\":\"f32f7f85-23b7-4bfb-b483-a0ad2976d81d\",\"type\":\"BasicTickFormatter\"},{\"attributes\":{\"callback\":null},\"id\":\"06adf013-9bab-4fcb-87c0-ee2eadf87fa9\",\"type\":\"DataRange1d\"},{\"attributes\":{\"plot\":{\"id\":\"82ca85b9-4467-43e9-ac78-89d700ca94e9\",\"subtype\":\"Figure\",\"type\":\"Plot\"}},\"id\":\"068204b8-4f3a-4520-a792-9271e836377e\",\"type\":\"SaveTool\"},{\"attributes\":{\"plot\":{\"id\":\"82ca85b9-4467-43e9-ac78-89d700ca94e9\",\"subtype\":\"Figure\",\"type\":\"Plot\"}},\"id\":\"57261ee1-c94e-4747-a676-0c163ac6d87e\",\"type\":\"PanTool\"},{\"attributes\":{},\"id\":\"f527b861-772c-4694-b8aa-38c722135954\",\"type\":\"ToolEvents\"},{\"attributes\":{\"plot\":{\"id\":\"82ca85b9-4467-43e9-ac78-89d700ca94e9\",\"subtype\":\"Figure\",\"type\":\"Plot\"}},\"id\":\"39a3412f-041a-4a24-90d6-c309fbfba3fe\",\"type\":\"ResetTool\"},{\"attributes\":{\"below\":[{\"id\":\"4076b502-6f26-40b4-a034-1300d3c4da85\",\"type\":\"LinearAxis\"}],\"left\":[{\"id\":\"59ae3d47-2dee-45a9-a01a-c4d7858fdf44\",\"type\":\"LinearAxis\"}],\"renderers\":[{\"id\":\"4076b502-6f26-40b4-a034-1300d3c4da85\",\"type\":\"LinearAxis\"},{\"id\":\"2920870b-fe1f-48ee-bba7-9e2e5068fb0f\",\"type\":\"Grid\"},{\"id\":\"59ae3d47-2dee-45a9-a01a-c4d7858fdf44\",\"type\":\"LinearAxis\"},{\"id\":\"e33dbce7-0a93-4ab9-a956-da479f81babb\",\"type\":\"Grid\"},{\"id\":\"4e2cfea0-83bf-4b16-8921-57dff5b777e3\",\"type\":\"GlyphRenderer\"},{\"id\":\"612a45ba-316a-4eee-bf28-7a21869d2b9a\",\"type\":\"LabelSet\"}],\"title\":{\"id\":\"4453a30c-beed-45ea-9dc7-4057af323b65\",\"type\":\"Title\"},\"tool_events\":{\"id\":\"f527b861-772c-4694-b8aa-38c722135954\",\"type\":\"ToolEvents\"},\"toolbar\":{\"id\":\"84f39ad7-1329-4b33-a6c6-e5b4c3c72b5a\",\"type\":\"Toolbar\"},\"toolbar_location\":\"above\",\"x_range\":{\"id\":\"06adf013-9bab-4fcb-87c0-ee2eadf87fa9\",\"type\":\"DataRange1d\"},\"y_range\":{\"id\":\"0e00158a-207d-42fb-8590-8168cc866d19\",\"type\":\"DataRange1d\"}},\"id\":\"82ca85b9-4467-43e9-ac78-89d700ca94e9\",\"subtype\":\"Figure\",\"type\":\"Plot\"},{\"attributes\":{\"plot\":{\"id\":\"82ca85b9-4467-43e9-ac78-89d700ca94e9\",\"subtype\":\"Figure\",\"type\":\"Plot\"},\"source\":{\"id\":\"0d290fd2-33d6-4151-b51b-1361b0c9734d\",\"type\":\"ColumnDataSource\"},\"text\":{\"field\":\"names\"},\"text_align\":\"center\",\"text_color\":{\"value\":\"#555555\"},\"text_font_size\":{\"value\":\"8pt\"},\"x\":{\"field\":\"x1\"},\"y\":{\"field\":\"x2\"},\"y_offset\":{\"value\":6}},\"id\":\"612a45ba-316a-4eee-bf28-7a21869d2b9a\",\"type\":\"LabelSet\"},{\"attributes\":{\"formatter\":{\"id\":\"41b64b3a-605d-4d51-b516-f1b44c00f8d7\",\"type\":\"BasicTickFormatter\"},\"plot\":{\"id\":\"82ca85b9-4467-43e9-ac78-89d700ca94e9\",\"subtype\":\"Figure\",\"type\":\"Plot\"},\"ticker\":{\"id\":\"639c00e0-a601-4f4c-b2b6-eda5bc04dcc4\",\"type\":\"BasicTicker\"}},\"id\":\"59ae3d47-2dee-45a9-a01a-c4d7858fdf44\",\"type\":\"LinearAxis\"},{\"attributes\":{},\"id\":\"41b64b3a-605d-4d51-b516-f1b44c00f8d7\",\"type\":\"BasicTickFormatter\"},{\"attributes\":{\"plot\":{\"id\":\"82ca85b9-4467-43e9-ac78-89d700ca94e9\",\"subtype\":\"Figure\",\"type\":\"Plot\"},\"ticker\":{\"id\":\"4fca17ad-cfad-4f5d-a3a5-120061ac91d5\",\"type\":\"BasicTicker\"}},\"id\":\"2920870b-fe1f-48ee-bba7-9e2e5068fb0f\",\"type\":\"Grid\"}],\"root_ids\":[\"82ca85b9-4467-43e9-ac78-89d700ca94e9\"]},\"title\":\"Bokeh Application\",\"version\":\"0.12.4\"}};\n",
       "            var render_items = [{\"docid\":\"4220287e-6365-47d6-b2ed-9d5fba72e213\",\"elementid\":\"b7b27596-42d2-424a-9751-69bc1eea2cb1\",\"modelid\":\"82ca85b9-4467-43e9-ac78-89d700ca94e9\"}];\n",
       "            \n",
       "            Bokeh.embed.embed_items(docs_json, render_items);\n",
       "          };\n",
       "          if (document.readyState != \"loading\") fn();\n",
       "          else document.addEventListener(\"DOMContentLoaded\", fn);\n",
       "        })();\n",
       "      },\n",
       "      function(Bokeh) {\n",
       "      }\n",
       "    ];\n",
       "  \n",
       "    function run_inline_js() {\n",
       "      \n",
       "      if ((window.Bokeh !== undefined) || (force === true)) {\n",
       "        for (var i = 0; i < inline_js.length; i++) {\n",
       "          inline_js[i](window.Bokeh);\n",
       "        }if (force === true) {\n",
       "          display_loaded();\n",
       "        }} else if (Date.now() < window._bokeh_timeout) {\n",
       "        setTimeout(run_inline_js, 100);\n",
       "      } else if (!window._bokeh_failed_load) {\n",
       "        console.log(\"Bokeh: BokehJS failed to load within specified timeout.\");\n",
       "        window._bokeh_failed_load = true;\n",
       "      } else if (force !== true) {\n",
       "        var cell = $(document.getElementById(\"b7b27596-42d2-424a-9751-69bc1eea2cb1\")).parents('.cell').data().cell;\n",
       "        cell.output_area.append_execute_result(NB_LOAD_WARNING)\n",
       "      }\n",
       "  \n",
       "    }\n",
       "  \n",
       "    if (window._bokeh_is_loading === 0) {\n",
       "      console.log(\"Bokeh: BokehJS loaded, going straight to plotting\");\n",
       "      run_inline_js();\n",
       "    } else {\n",
       "      load_libs(js_urls, function() {\n",
       "        console.log(\"Bokeh: BokehJS plotting callback run at\", now());\n",
       "        run_inline_js();\n",
       "      });\n",
       "    }\n",
       "  }(this));\n",
       "</script>"
      ]
     },
     "metadata": {},
     "output_type": "display_data"
    }
   ],
   "source": [
    "p = figure(tools=\"pan,wheel_zoom,reset,save\",\n",
    "           toolbar_location=\"above\",\n",
    "           title=\"word2vec T-SNE for most common words\")\n",
    "\n",
    "source = ColumnDataSource(data=dict(x1=words_top_ted_tsne[:,0],\n",
    "                                    x2=words_top_ted_tsne[:,1],\n",
    "                                    names=words_top_ted))\n",
    "\n",
    "p.scatter(x=\"x1\", y=\"x2\", size=8, source=source)\n",
    "\n",
    "labels = LabelSet(x=\"x1\", y=\"x2\", text=\"names\", y_offset=6,\n",
    "                  text_font_size=\"8pt\", text_color=\"#555555\",\n",
    "                  source=source, text_align='center')\n",
    "p.add_layout(labels)\n",
    "\n",
    "show(p)"
   ]
  },
  {
   "cell_type": "markdown",
   "metadata": {},
   "source": [
    "### Part 5: Wiki Learnt Representations"
   ]
  },
  {
   "cell_type": "markdown",
   "metadata": {},
   "source": [
    "Download dataset"
   ]
  },
  {
   "cell_type": "code",
   "execution_count": 72,
   "metadata": {
    "collapsed": true
   },
   "outputs": [],
   "source": [
    "if not os.path.isfile('wikitext-103-raw-v1.zip'):\n",
    "    urllib.request.urlretrieve(\"https://s3.amazonaws.com/research.metamind.io/wikitext/wikitext-103-raw-v1.zip\", filename=\"wikitext-103-raw-v1.zip\")"
   ]
  },
  {
   "cell_type": "code",
   "execution_count": 73,
   "metadata": {},
   "outputs": [],
   "source": [
    "with zipfile.ZipFile('wikitext-103-raw-v1.zip', 'r') as z:\n",
    "    input_text = str(z.open('wikitext-103-raw/wiki.train.raw', 'r').read(), encoding='utf-8') # Thanks Robert Bastian"
   ]
  },
  {
   "cell_type": "markdown",
   "metadata": {},
   "source": [
    "Preprocess sentences (note that it's important to remove small sentences for performance)"
   ]
  },
  {
   "cell_type": "code",
   "execution_count": 74,
   "metadata": {},
   "outputs": [],
   "source": [
    "sentences_wiki = []\n",
    "for line in input_text.split('\\n'):\n",
    "    s = [x for x in line.split('.') if x and len(x.split()) >= 5]\n",
    "    sentences_wiki.extend(s)\n",
    "    \n",
    "for s_i in range(len(sentences_wiki)):\n",
    "    sentences_wiki[s_i] = re.sub(\"[^a-z]\", \" \", sentences_wiki[s_i].lower())\n",
    "    sentences_wiki[s_i] = re.sub(r'\\([^)]*\\)', '', sentences_wiki[s_i])\n",
    "del input_text"
   ]
  },
  {
   "cell_type": "code",
   "execution_count": 75,
   "metadata": {},
   "outputs": [
    {
     "name": "stdout",
     "output_type": "stream",
     "text": [
      "4267112\n",
      "853422\n"
     ]
    }
   ],
   "source": [
    "# sample 1/5 of the data\n",
    "shuffle(sentences_wiki)\n",
    "print(len(sentences_wiki))\n",
    "sentences_wiki = sentences_wiki[:int(len(sentences_wiki)/5)]\n",
    "print(len(sentences_wiki))"
   ]
  },
  {
   "cell_type": "code",
   "execution_count": 78,
   "metadata": {
    "collapsed": true
   },
   "outputs": [],
   "source": [
    "sentences_wiki_l = []\n",
    "for sent_str in sentences_wiki:\n",
    "    tokens = re.sub(r\"[^a-z0-9]+\", \" \", sent_str.lower()).split()\n",
    "    sentences_wiki_l.append(tokens)"
   ]
  },
  {
   "cell_type": "markdown",
   "metadata": {},
   "source": [
    "Now, repeat all the same steps that you performed above. You should be able to reuse essentially all the code."
   ]
  },
  {
   "cell_type": "code",
   "execution_count": 79,
   "metadata": {},
   "outputs": [
    {
     "data": {
      "text/plain": [
       "['on',\n",
       " 'all',\n",
       " 'falls',\n",
       " 'down',\n",
       " 'west',\n",
       " 'wages',\n",
       " 'an',\n",
       " 'attack',\n",
       " 'on',\n",
       " 'consumerism']"
      ]
     },
     "execution_count": 79,
     "metadata": {},
     "output_type": "execute_result"
    }
   ],
   "source": [
    "sentences_wiki_l[0]"
   ]
  },
  {
   "cell_type": "code",
   "execution_count": 81,
   "metadata": {},
   "outputs": [],
   "source": [
    "cv = CountVectorizer()\n",
    "counts = cv.fit_transform([' '.join(sentence) for sentence in sentences_wiki_l])\n",
    "\n",
    "words2idx = cv.vocabulary_\n",
    "idx2word = {v:k for k, v in words2idx.items()}\n",
    "\n",
    "counts_wiki = np.asarray(counts.sum(axis=0)).squeeze()\n",
    "counts_wiki_top1000 = np.sort(counts_wiki)[::-1][:1000]\n",
    "idx_wiki_top1000 = np.argsort(counts_wiki)[::-1][:1000]\n",
    "words_top_wiki = [idx2word[i] for i in idx_wiki_top1000]"
   ]
  },
  {
   "cell_type": "code",
   "execution_count": 85,
   "metadata": {
    "collapsed": true
   },
   "outputs": [],
   "source": [
    "model_wiki = Word2Vec(sentences_wiki_l, min_count=10)"
   ]
  },
  {
   "cell_type": "code",
   "execution_count": 86,
   "metadata": {},
   "outputs": [
    {
     "data": {
      "text/plain": [
       "48702"
      ]
     },
     "execution_count": 86,
     "metadata": {},
     "output_type": "execute_result"
    }
   ],
   "source": [
    "len(model_wiki.vocab)"
   ]
  },
  {
   "cell_type": "markdown",
   "metadata": {},
   "source": [
    "#### t-SNE visualization"
   ]
  },
  {
   "cell_type": "code",
   "execution_count": 87,
   "metadata": {
    "collapsed": true
   },
   "outputs": [],
   "source": [
    "# This assumes words_top_wiki is a list of strings, the top 1000 words\n",
    "words_top_vec_wiki = model_wiki[words_top_wiki]\n",
    "\n",
    "tsne = TSNE(n_components=2, random_state=0)\n",
    "words_top_wiki_tsne = tsne.fit_transform(words_top_vec_wiki)"
   ]
  },
  {
   "cell_type": "code",
   "execution_count": 88,
   "metadata": {},
   "outputs": [
    {
     "data": {
      "text/html": [
       "\n",
       "\n",
       "    <div class=\"bk-root\">\n",
       "        <div class=\"bk-plotdiv\" id=\"968d153a-7a5b-4060-8fa1-b68fa36057f2\"></div>\n",
       "    </div>\n",
       "<script type=\"text/javascript\">\n",
       "  \n",
       "  (function(global) {\n",
       "    function now() {\n",
       "      return new Date();\n",
       "    }\n",
       "  \n",
       "    var force = false;\n",
       "  \n",
       "    if (typeof (window._bokeh_onload_callbacks) === \"undefined\" || force === true) {\n",
       "      window._bokeh_onload_callbacks = [];\n",
       "      window._bokeh_is_loading = undefined;\n",
       "    }\n",
       "  \n",
       "  \n",
       "    \n",
       "    if (typeof (window._bokeh_timeout) === \"undefined\" || force === true) {\n",
       "      window._bokeh_timeout = Date.now() + 0;\n",
       "      window._bokeh_failed_load = false;\n",
       "    }\n",
       "  \n",
       "    var NB_LOAD_WARNING = {'data': {'text/html':\n",
       "       \"<div style='background-color: #fdd'>\\n\"+\n",
       "       \"<p>\\n\"+\n",
       "       \"BokehJS does not appear to have successfully loaded. If loading BokehJS from CDN, this \\n\"+\n",
       "       \"may be due to a slow or bad network connection. Possible fixes:\\n\"+\n",
       "       \"</p>\\n\"+\n",
       "       \"<ul>\\n\"+\n",
       "       \"<li>re-rerun `output_notebook()` to attempt to load from CDN again, or</li>\\n\"+\n",
       "       \"<li>use INLINE resources instead, as so:</li>\\n\"+\n",
       "       \"</ul>\\n\"+\n",
       "       \"<code>\\n\"+\n",
       "       \"from bokeh.resources import INLINE\\n\"+\n",
       "       \"output_notebook(resources=INLINE)\\n\"+\n",
       "       \"</code>\\n\"+\n",
       "       \"</div>\"}};\n",
       "  \n",
       "    function display_loaded() {\n",
       "      if (window.Bokeh !== undefined) {\n",
       "        document.getElementById(\"968d153a-7a5b-4060-8fa1-b68fa36057f2\").textContent = \"BokehJS successfully loaded.\";\n",
       "      } else if (Date.now() < window._bokeh_timeout) {\n",
       "        setTimeout(display_loaded, 100)\n",
       "      }\n",
       "    }\n",
       "  \n",
       "    function run_callbacks() {\n",
       "      window._bokeh_onload_callbacks.forEach(function(callback) { callback() });\n",
       "      delete window._bokeh_onload_callbacks\n",
       "      console.info(\"Bokeh: all callbacks have finished\");\n",
       "    }\n",
       "  \n",
       "    function load_libs(js_urls, callback) {\n",
       "      window._bokeh_onload_callbacks.push(callback);\n",
       "      if (window._bokeh_is_loading > 0) {\n",
       "        console.log(\"Bokeh: BokehJS is being loaded, scheduling callback at\", now());\n",
       "        return null;\n",
       "      }\n",
       "      if (js_urls == null || js_urls.length === 0) {\n",
       "        run_callbacks();\n",
       "        return null;\n",
       "      }\n",
       "      console.log(\"Bokeh: BokehJS not loaded, scheduling load and callback at\", now());\n",
       "      window._bokeh_is_loading = js_urls.length;\n",
       "      for (var i = 0; i < js_urls.length; i++) {\n",
       "        var url = js_urls[i];\n",
       "        var s = document.createElement('script');\n",
       "        s.src = url;\n",
       "        s.async = false;\n",
       "        s.onreadystatechange = s.onload = function() {\n",
       "          window._bokeh_is_loading--;\n",
       "          if (window._bokeh_is_loading === 0) {\n",
       "            console.log(\"Bokeh: all BokehJS libraries loaded\");\n",
       "            run_callbacks()\n",
       "          }\n",
       "        };\n",
       "        s.onerror = function() {\n",
       "          console.warn(\"failed to load library \" + url);\n",
       "        };\n",
       "        console.log(\"Bokeh: injecting script tag for BokehJS library: \", url);\n",
       "        document.getElementsByTagName(\"head\")[0].appendChild(s);\n",
       "      }\n",
       "    };var element = document.getElementById(\"968d153a-7a5b-4060-8fa1-b68fa36057f2\");\n",
       "    if (element == null) {\n",
       "      console.log(\"Bokeh: ERROR: autoload.js configured with elementid '968d153a-7a5b-4060-8fa1-b68fa36057f2' but no matching script tag was found. \")\n",
       "      return false;\n",
       "    }\n",
       "  \n",
       "    var js_urls = [];\n",
       "  \n",
       "    var inline_js = [\n",
       "      function(Bokeh) {\n",
       "        (function() {\n",
       "          var fn = function() {\n",
       "            var docs_json = {\"c77e4e4d-b9ed-48e5-9be3-754351d383a7\":{\"roots\":{\"references\":[{\"attributes\":{\"below\":[{\"id\":\"17d4d4e8-3c6e-4a79-8a40-db2b3fb3e181\",\"type\":\"LinearAxis\"}],\"left\":[{\"id\":\"da9cd965-e417-4f9f-9bc0-983735eeb2c3\",\"type\":\"LinearAxis\"}],\"renderers\":[{\"id\":\"17d4d4e8-3c6e-4a79-8a40-db2b3fb3e181\",\"type\":\"LinearAxis\"},{\"id\":\"31d31f8f-19a2-46d8-8798-f36619830aa0\",\"type\":\"Grid\"},{\"id\":\"da9cd965-e417-4f9f-9bc0-983735eeb2c3\",\"type\":\"LinearAxis\"},{\"id\":\"5323e810-6bb7-446b-ab5a-2a51c08aa9fc\",\"type\":\"Grid\"},{\"id\":\"abc72531-64e3-4d6c-a1f0-8bfc797e9483\",\"type\":\"GlyphRenderer\"},{\"id\":\"32ca07cf-ac3b-427e-bce7-6de768548c75\",\"type\":\"LabelSet\"}],\"title\":{\"id\":\"8587d674-ea42-4328-b6ec-adbd287f0bdd\",\"type\":\"Title\"},\"tool_events\":{\"id\":\"429e1d41-bb67-44c7-a3ac-b26109b8aedb\",\"type\":\"ToolEvents\"},\"toolbar\":{\"id\":\"2068d5be-98a5-47fe-8cef-aae1ef74dcb2\",\"type\":\"Toolbar\"},\"toolbar_location\":\"above\",\"x_range\":{\"id\":\"55eba8f7-24e2-4352-9bed-ecedf5ccce1a\",\"type\":\"DataRange1d\"},\"y_range\":{\"id\":\"2de29ee5-40f5-485e-a7c5-8a015f1b1dae\",\"type\":\"DataRange1d\"}},\"id\":\"09942cfc-1f78-402a-9044-cf25b1fd6c1f\",\"subtype\":\"Figure\",\"type\":\"Plot\"},{\"attributes\":{\"plot\":{\"id\":\"09942cfc-1f78-402a-9044-cf25b1fd6c1f\",\"subtype\":\"Figure\",\"type\":\"Plot\"}},\"id\":\"9a34b221-3c7d-4ce5-9cb4-f40afcd4a14b\",\"type\":\"SaveTool\"},{\"attributes\":{\"plot\":{\"id\":\"09942cfc-1f78-402a-9044-cf25b1fd6c1f\",\"subtype\":\"Figure\",\"type\":\"Plot\"}},\"id\":\"6ccbc465-a182-4cd5-9db7-fcfc1c0a5735\",\"type\":\"ResetTool\"},{\"attributes\":{\"plot\":{\"id\":\"09942cfc-1f78-402a-9044-cf25b1fd6c1f\",\"subtype\":\"Figure\",\"type\":\"Plot\"}},\"id\":\"3d24e1a2-1e2d-4deb-8707-d3ab2897048e\",\"type\":\"PanTool\"},{\"attributes\":{},\"id\":\"814aa837-cf6a-4a55-afae-cc4282ff8909\",\"type\":\"BasicTicker\"},{\"attributes\":{\"active_drag\":\"auto\",\"active_scroll\":\"auto\",\"active_tap\":\"auto\",\"tools\":[{\"id\":\"3d24e1a2-1e2d-4deb-8707-d3ab2897048e\",\"type\":\"PanTool\"},{\"id\":\"ca973139-0ce8-4c5d-9351-8eb44dd812b1\",\"type\":\"WheelZoomTool\"},{\"id\":\"6ccbc465-a182-4cd5-9db7-fcfc1c0a5735\",\"type\":\"ResetTool\"},{\"id\":\"9a34b221-3c7d-4ce5-9cb4-f40afcd4a14b\",\"type\":\"SaveTool\"}]},\"id\":\"2068d5be-98a5-47fe-8cef-aae1ef74dcb2\",\"type\":\"Toolbar\"},{\"attributes\":{\"plot\":null,\"text\":\"word2vec T-SNE for most common words\"},\"id\":\"8587d674-ea42-4328-b6ec-adbd287f0bdd\",\"type\":\"Title\"},{\"attributes\":{},\"id\":\"abda27e8-6d37-4932-8ad8-1df47c04e942\",\"type\":\"BasicTickFormatter\"},{\"attributes\":{\"plot\":{\"id\":\"09942cfc-1f78-402a-9044-cf25b1fd6c1f\",\"subtype\":\"Figure\",\"type\":\"Plot\"},\"ticker\":{\"id\":\"814aa837-cf6a-4a55-afae-cc4282ff8909\",\"type\":\"BasicTicker\"}},\"id\":\"31d31f8f-19a2-46d8-8798-f36619830aa0\",\"type\":\"Grid\"},{\"attributes\":{\"callback\":null},\"id\":\"55eba8f7-24e2-4352-9bed-ecedf5ccce1a\",\"type\":\"DataRange1d\"},{\"attributes\":{\"callback\":null,\"column_names\":[\"x2\",\"names\",\"x1\"],\"data\":{\"names\":[\"the\",\"of\",\"and\",\"in\",\"to\",\"was\",\"on\",\"as\",\"for\",\"that\",\"with\",\"by\",\"is\",\"his\",\"at\",\"he\",\"from\",\"it\",\"were\",\"an\",\"had\",\"which\",\"be\",\"this\",\"but\",\"are\",\"first\",\"not\",\"their\",\"after\",\"one\",\"its\",\"her\",\"also\",\"they\",\"two\",\"or\",\"have\",\"who\",\"new\",\"been\",\"has\",\"she\",\"when\",\"time\",\"during\",\"other\",\"would\",\"into\",\"all\",\"more\",\"while\",\"over\",\"game\",\"him\",\"later\",\"only\",\"up\",\"most\",\"about\",\"three\",\"between\",\"out\",\"th\",\"there\",\"than\",\"film\",\"some\",\"may\",\"before\",\"no\",\"year\",\"made\",\"where\",\"such\",\"second\",\"season\",\"war\",\"years\",\"world\",\"then\",\"both\",\"through\",\"being\",\"used\",\"however\",\"them\",\"these\",\"against\",\"song\",\"series\",\"album\",\"many\",\"north\",\"team\",\"city\",\"well\",\"number\",\"part\",\"became\",\"including\",\"can\",\"several\",\"united\",\"four\",\"under\",\"early\",\"state\",\"south\",\"music\",\"so\",\"episode\",\"day\",\"said\",\"states\",\"following\",\"known\",\"although\",\"could\",\"american\",\"did\",\"work\",\"began\",\"until\",\"because\",\"like\",\"released\",\"called\",\"end\",\"high\",\"people\",\"british\",\"since\",\"around\",\"national\",\"found\",\"west\",\"each\",\"long\",\"if\",\"life\",\"best\",\"september\",\"us\",\"same\",\"along\",\"million\",\"back\",\"another\",\"you\",\"five\",\"took\",\"show\",\"area\",\"use\",\"final\",\"any\",\"group\",\"km\",\"october\",\"off\",\"century\",\"august\",\"received\",\"school\",\"due\",\"john\",\"what\",\"june\",\"will\",\"east\",\"line\",\"system\",\"government\",\"march\",\"single\",\"july\",\"home\",\"november\",\"general\",\"large\",\"games\",\"third\",\"april\",\"set\",\"left\",\"based\",\"family\",\"down\",\"much\",\"major\",\"house\",\"york\",\"company\",\"played\",\"place\",\"king\",\"name\",\"we\",\"december\",\"history\",\"just\",\"january\",\"band\",\"road\",\"now\",\"army\",\"wrote\",\"included\",\"six\",\"character\",\"led\",\"last\",\"near\",\"won\",\"main\",\"according\",\"river\",\"within\",\"described\",\"own\",\"record\",\"air\",\"men\",\"those\",\"st\",\"next\",\"death\",\"times\",\"make\",\"named\",\"release\",\"late\",\"video\",\"de\",\"still\",\"top\",\"very\",\"species\",\"production\",\"way\",\"battle\",\"original\",\"even\",\"small\",\"league\",\"man\",\"force\",\"ship\",\"built\",\"again\",\"club\",\"old\",\"great\",\"route\",\"february\",\"though\",\"storm\",\"public\",\"do\",\"play\",\"held\",\"further\",\"days\",\"university\",\"french\",\"side\",\"match\",\"having\",\"division\",\"service\",\"book\",\"role\",\"german\",\"among\",\"members\",\"power\",\"story\",\"point\",\"park\",\"player\",\"local\",\"white\",\"water\",\"career\",\"often\",\"continued\",\"order\",\"former\",\"town\",\"black\",\"considered\",\"came\",\"despite\",\"england\",\"without\",\"take\",\"party\",\"half\",\"moved\",\"form\",\"county\",\"songs\",\"support\",\"lost\",\"period\",\"version\",\"island\",\"building\",\"few\",\"written\",\"development\",\"different\",\"ii\",\"military\",\"country\",\"english\",\"become\",\"tropical\",\"forces\",\"re\",\"president\",\"church\",\"international\",\"court\",\"little\",\"given\",\"gave\",\"london\",\"lead\",\"tour\",\"track\",\"using\",\"street\",\"attack\",\"similar\",\"my\",\"returned\",\"never\",\"published\",\"performance\",\"position\",\"short\",\"recorded\",\"royal\",\"produced\",\"run\",\"stated\",\"class\",\"went\",\"aircraft\",\"control\",\"father\",\"ships\",\"total\",\"star\",\"include\",\"children\",\"land\",\"western\",\"television\",\"highway\",\"throughout\",\"good\",\"women\",\"head\",\"live\",\"making\",\"week\",\"how\",\"fire\",\"right\",\"love\",\"per\",\"less\",\"upon\",\"young\",\"himself\",\"once\",\"me\",\"characters\",\"rock\",\"design\",\"central\",\"instead\",\"players\",\"title\",\"station\",\"writing\",\"age\",\"light\",\"red\",\"australia\",\"hurricane\",\"result\",\"months\",\"return\",\"political\",\"seven\",\"died\",\"sea\",\"southern\",\"remained\",\"ten\",\"away\",\"developed\",\"previous\",\"night\",\"across\",\"various\",\"ft\",\"law\",\"eight\",\"low\",\"william\",\"eventually\",\"james\",\"son\",\"areas\",\"felt\",\"office\",\"noted\",\"miles\",\"style\",\"too\",\"america\",\"field\",\"should\",\"center\",\"announced\",\"reported\",\"college\",\"construction\",\"race\",\"award\",\"created\",\"reached\",\"act\",\"win\",\"served\",\"followed\",\"northern\",\"sent\",\"japanese\",\"together\",\"performed\",\"level\",\"campaign\",\"seen\",\"full\",\"mm\",\"george\",\"able\",\"killed\",\"playing\",\"established\",\"born\",\"range\",\"modern\",\"member\",\"action\",\"common\",\"taken\",\"success\",\"originally\",\"present\",\"front\",\"points\",\"works\",\"addition\",\"others\",\"australian\",\"thought\",\"chart\",\"body\",\"caused\",\"football\",\"features\",\"site\",\"rather\",\"sold\",\"project\",\"special\",\"post\",\"appeared\",\"started\",\"stage\",\"get\",\"behind\",\"located\",\"fourth\",\"critics\",\"formed\",\"added\",\"population\",\"completed\",\"feet\",\"strong\",\"see\",\"heavy\",\"saw\",\"championship\",\"decided\",\"important\",\"damage\",\"go\",\"bridge\",\"opened\",\"popular\",\"art\",\"eastern\",\"close\",\"command\",\"guns\",\"ground\",\"almost\",\"every\",\"region\",\"david\",\"director\",\"kingdom\",\"initially\",\"leading\",\"awards\",\"working\",\"non\",\"mother\",\"open\",\"sound\",\"recording\",\"mi\",\"fleet\",\"towards\",\"worked\",\"union\",\"case\",\"soon\",\"coast\",\"either\",\"free\",\"training\",\"weeks\",\"hall\",\"france\",\"scene\",\"ever\",\"michael\",\"event\",\"wife\",\"featured\",\"wanted\",\"least\",\"cup\",\"scored\",\"records\",\"henry\",\"navy\",\"does\",\"brought\",\"put\",\"help\",\"human\",\"provided\",\"hit\",\"allowed\",\"designed\",\"placed\",\"example\",\"average\",\"far\",\"generally\",\"europe\",\"council\",\"magazine\",\"co\",\"troops\",\"studio\",\"victory\",\"opening\",\"runs\",\"mid\",\"list\",\"al\",\"joined\",\"washington\",\"believed\",\"nine\",\"hours\",\"summer\",\"japan\",\"earlier\",\"media\",\"events\",\"official\",\"taking\",\"radio\",\"start\",\"robert\",\"brown\",\"successful\",\"squadron\",\"replaced\",\"police\",\"operation\",\"minutes\",\"particularly\",\"films\",\"base\",\"significant\",\"crew\",\"european\",\"test\",\"process\",\"society\",\"possible\",\"shot\",\"change\",\"month\",\"review\",\"beginning\",\"rest\",\"finished\",\"involved\",\"saying\",\"forced\",\"association\",\"hill\",\"big\",\"met\",\"move\",\"research\",\"better\",\"stone\",\"highest\",\"available\",\"must\",\"section\",\"increased\",\"largest\",\"outside\",\"captain\",\"social\",\"mph\",\"lower\",\"space\",\"cast\",\"business\",\"come\",\"community\",\"goal\",\"above\",\"ended\",\"previously\",\"going\",\"real\",\"charles\",\"thus\",\"relationship\",\"positive\",\"turned\",\"signed\",\"praised\",\"reviews\",\"san\",\"middle\",\"future\",\"passed\",\"appearance\",\"units\",\"ordered\",\"canada\",\"chief\",\"additional\",\"elements\",\"gold\",\"board\",\"staff\",\"program\",\"cross\",\"infantry\",\"enough\",\"lake\",\"thomas\",\"musical\",\"brother\",\"told\",\"winds\",\"attempt\",\"spent\",\"type\",\"news\",\"money\",\"evidence\",\"round\",\"plan\",\"give\",\"hand\",\"paul\",\"lines\",\"california\",\"rights\",\"castle\",\"sometimes\",\"don\",\"interest\",\"parts\",\"failed\",\"groups\",\"overall\",\"itself\",\"female\",\"personal\",\"germany\",\"gun\",\"find\",\"committee\",\"asked\",\"cover\",\"directed\",\"critical\",\"election\",\"study\",\"novel\",\"stars\",\"term\",\"district\",\"prior\",\"port\",\"usually\",\"india\",\"effects\",\"grand\",\"already\",\"surface\",\"past\",\"battalion\",\"required\",\"entire\",\"food\",\"idea\",\"reception\",\"turn\",\"green\",\"uk\",\"students\",\"governor\",\"claimed\",\"limited\",\"person\",\"whose\",\"complete\",\"quickly\",\"commander\",\"education\",\"indian\",\"response\",\"bill\",\"our\",\"especially\",\"peter\",\"smith\",\"operations\",\"shows\",\"anti\",\"room\",\"plot\",\"decision\",\"movement\",\"blue\",\"episodes\",\"writer\",\"whom\",\"introduced\",\"background\",\"minister\",\"issue\",\"services\",\"woman\",\"estimated\",\"department\",\"carried\",\"cut\",\"mark\",\"flight\",\"latter\",\"loss\",\"earth\",\"living\",\"industry\",\"fifth\",\"centre\",\"village\",\"becoming\",\"score\",\"remaining\",\"press\",\"square\",\"language\",\"speed\",\"debut\",\"defeated\",\"material\",\"virginia\",\"arrived\",\"experience\",\"britain\",\"approximately\",\"child\",\"bay\",\"los\",\"god\",\"car\",\"ny\",\"science\",\"queen\",\"compared\",\"structure\",\"destroyed\",\"larger\",\"la\",\"running\",\"pop\",\"voice\",\"islands\",\"scenes\",\"dark\",\"naval\",\"entered\",\"richard\",\"commercial\",\"suggested\",\"pressure\",\"leaving\",\"view\",\"nearly\",\"date\",\"length\",\"wide\",\"leader\",\"shortly\",\"today\",\"brigade\",\"tracks\",\"appointed\",\"provide\",\"changes\",\"civil\",\"teams\",\"finally\",\"higher\",\"course\",\"proposed\",\"empire\",\"influence\",\"report\",\"immediately\",\"intended\",\"might\",\"current\",\"winning\",\"soviet\",\"spanish\",\"face\",\"plans\",\"depression\",\"railway\",\"chicago\",\"captured\",\"hot\",\"lack\",\"daughter\",\"regular\",\"network\",\"fact\",\"cost\",\"guitar\",\"related\",\"health\",\"professional\",\"agreed\",\"fans\",\"fort\",\"percent\",\"self\",\"chinese\",\"awarded\",\"manager\",\"size\",\"create\",\"nature\",\"whether\",\"something\",\"lord\",\"ball\",\"themselves\",\"soldiers\",\"producer\",\"countries\",\"officer\",\"supported\",\"cm\",\"trade\",\"regiment\",\"changed\",\"books\",\"upper\",\"your\",\"subsequently\",\"planned\",\"helped\",\"minor\",\"forward\",\"private\",\"natural\",\"remains\",\"married\",\"contract\",\"longer\",\"done\",\"lyrics\",\"mostly\",\"singer\",\"museum\",\"singles\",\"nd\",\"includes\",\"johnson\",\"appear\",\"friend\",\"really\",\"status\",\"corps\",\"effect\",\"officers\",\"jackson\",\"billboard\",\"friends\",\"difficult\",\"buildings\",\"atlantic\",\"associated\",\"pacific\",\"moving\",\"mixed\",\"dance\",\"information\",\"key\",\"location\",\"federal\",\"meeting\",\"leave\",\"likely\",\"primary\",\"probably\",\"initial\",\"dead\",\"copies\",\"yet\",\"feature\",\"edward\",\"conference\",\"fight\",\"via\",\"energy\",\"removed\",\"unit\",\"suffered\",\"ran\",\"extended\",\"always\",\"edition\",\"roman\",\"entertainment\",\"problems\",\"wind\",\"offered\",\"numerous\",\"revealed\",\"christian\",\"texas\",\"china\",\"male\",\"selected\",\"got\",\"double\",\"appears\",\"issued\",\"independent\",\"florida\",\"cause\",\"need\",\"pre\",\"terms\",\"albums\",\"africa\",\"damaged\",\"poor\",\"majority\",\"ranked\",\"model\"],\"x1\":{\"__ndarray__\":\"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\",\"dtype\":\"float64\",\"shape\":[1000]},\"x2\":{\"__ndarray__\":\"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\",\"dtype\":\"float64\",\"shape\":[1000]}}},\"id\":\"69857f72-ec5c-47e4-8f86-4d9efcfda0b5\",\"type\":\"ColumnDataSource\"},{\"attributes\":{},\"id\":\"429e1d41-bb67-44c7-a3ac-b26109b8aedb\",\"type\":\"ToolEvents\"},{\"attributes\":{\"dimension\":1,\"plot\":{\"id\":\"09942cfc-1f78-402a-9044-cf25b1fd6c1f\",\"subtype\":\"Figure\",\"type\":\"Plot\"},\"ticker\":{\"id\":\"7e9322a3-222b-4cb1-8231-f3b2b6464feb\",\"type\":\"BasicTicker\"}},\"id\":\"5323e810-6bb7-446b-ab5a-2a51c08aa9fc\",\"type\":\"Grid\"},{\"attributes\":{\"plot\":{\"id\":\"09942cfc-1f78-402a-9044-cf25b1fd6c1f\",\"subtype\":\"Figure\",\"type\":\"Plot\"},\"source\":{\"id\":\"69857f72-ec5c-47e4-8f86-4d9efcfda0b5\",\"type\":\"ColumnDataSource\"},\"text\":{\"field\":\"names\"},\"text_align\":\"center\",\"text_color\":{\"value\":\"#555555\"},\"text_font_size\":{\"value\":\"8pt\"},\"x\":{\"field\":\"x1\"},\"y\":{\"field\":\"x2\"},\"y_offset\":{\"value\":6}},\"id\":\"32ca07cf-ac3b-427e-bce7-6de768548c75\",\"type\":\"LabelSet\"},{\"attributes\":{\"formatter\":{\"id\":\"abda27e8-6d37-4932-8ad8-1df47c04e942\",\"type\":\"BasicTickFormatter\"},\"plot\":{\"id\":\"09942cfc-1f78-402a-9044-cf25b1fd6c1f\",\"subtype\":\"Figure\",\"type\":\"Plot\"},\"ticker\":{\"id\":\"7e9322a3-222b-4cb1-8231-f3b2b6464feb\",\"type\":\"BasicTicker\"}},\"id\":\"da9cd965-e417-4f9f-9bc0-983735eeb2c3\",\"type\":\"LinearAxis\"},{\"attributes\":{\"data_source\":{\"id\":\"69857f72-ec5c-47e4-8f86-4d9efcfda0b5\",\"type\":\"ColumnDataSource\"},\"glyph\":{\"id\":\"3ffc4c52-108d-40a3-b078-13a0827ac1c7\",\"type\":\"Circle\"},\"hover_glyph\":null,\"nonselection_glyph\":{\"id\":\"c5d1c56b-e489-4d67-8ffc-abdeed0d8cba\",\"type\":\"Circle\"},\"selection_glyph\":null},\"id\":\"abc72531-64e3-4d6c-a1f0-8bfc797e9483\",\"type\":\"GlyphRenderer\"},{\"attributes\":{\"callback\":null},\"id\":\"2de29ee5-40f5-485e-a7c5-8a015f1b1dae\",\"type\":\"DataRange1d\"},{\"attributes\":{},\"id\":\"7e9322a3-222b-4cb1-8231-f3b2b6464feb\",\"type\":\"BasicTicker\"},{\"attributes\":{\"plot\":{\"id\":\"09942cfc-1f78-402a-9044-cf25b1fd6c1f\",\"subtype\":\"Figure\",\"type\":\"Plot\"}},\"id\":\"ca973139-0ce8-4c5d-9351-8eb44dd812b1\",\"type\":\"WheelZoomTool\"},{\"attributes\":{\"formatter\":{\"id\":\"7aa628ad-8897-49bb-a121-e2b6b6c663d7\",\"type\":\"BasicTickFormatter\"},\"plot\":{\"id\":\"09942cfc-1f78-402a-9044-cf25b1fd6c1f\",\"subtype\":\"Figure\",\"type\":\"Plot\"},\"ticker\":{\"id\":\"814aa837-cf6a-4a55-afae-cc4282ff8909\",\"type\":\"BasicTicker\"}},\"id\":\"17d4d4e8-3c6e-4a79-8a40-db2b3fb3e181\",\"type\":\"LinearAxis\"},{\"attributes\":{},\"id\":\"7aa628ad-8897-49bb-a121-e2b6b6c663d7\",\"type\":\"BasicTickFormatter\"},{\"attributes\":{\"fill_color\":{\"value\":\"#1f77b4\"},\"line_color\":{\"value\":\"#1f77b4\"},\"size\":{\"units\":\"screen\",\"value\":8},\"x\":{\"field\":\"x1\"},\"y\":{\"field\":\"x2\"}},\"id\":\"3ffc4c52-108d-40a3-b078-13a0827ac1c7\",\"type\":\"Circle\"},{\"attributes\":{\"fill_alpha\":{\"value\":0.1},\"fill_color\":{\"value\":\"#1f77b4\"},\"line_alpha\":{\"value\":0.1},\"line_color\":{\"value\":\"#1f77b4\"},\"size\":{\"units\":\"screen\",\"value\":8},\"x\":{\"field\":\"x1\"},\"y\":{\"field\":\"x2\"}},\"id\":\"c5d1c56b-e489-4d67-8ffc-abdeed0d8cba\",\"type\":\"Circle\"}],\"root_ids\":[\"09942cfc-1f78-402a-9044-cf25b1fd6c1f\"]},\"title\":\"Bokeh Application\",\"version\":\"0.12.4\"}};\n",
       "            var render_items = [{\"docid\":\"c77e4e4d-b9ed-48e5-9be3-754351d383a7\",\"elementid\":\"968d153a-7a5b-4060-8fa1-b68fa36057f2\",\"modelid\":\"09942cfc-1f78-402a-9044-cf25b1fd6c1f\"}];\n",
       "            \n",
       "            Bokeh.embed.embed_items(docs_json, render_items);\n",
       "          };\n",
       "          if (document.readyState != \"loading\") fn();\n",
       "          else document.addEventListener(\"DOMContentLoaded\", fn);\n",
       "        })();\n",
       "      },\n",
       "      function(Bokeh) {\n",
       "      }\n",
       "    ];\n",
       "  \n",
       "    function run_inline_js() {\n",
       "      \n",
       "      if ((window.Bokeh !== undefined) || (force === true)) {\n",
       "        for (var i = 0; i < inline_js.length; i++) {\n",
       "          inline_js[i](window.Bokeh);\n",
       "        }if (force === true) {\n",
       "          display_loaded();\n",
       "        }} else if (Date.now() < window._bokeh_timeout) {\n",
       "        setTimeout(run_inline_js, 100);\n",
       "      } else if (!window._bokeh_failed_load) {\n",
       "        console.log(\"Bokeh: BokehJS failed to load within specified timeout.\");\n",
       "        window._bokeh_failed_load = true;\n",
       "      } else if (force !== true) {\n",
       "        var cell = $(document.getElementById(\"968d153a-7a5b-4060-8fa1-b68fa36057f2\")).parents('.cell').data().cell;\n",
       "        cell.output_area.append_execute_result(NB_LOAD_WARNING)\n",
       "      }\n",
       "  \n",
       "    }\n",
       "  \n",
       "    if (window._bokeh_is_loading === 0) {\n",
       "      console.log(\"Bokeh: BokehJS loaded, going straight to plotting\");\n",
       "      run_inline_js();\n",
       "    } else {\n",
       "      load_libs(js_urls, function() {\n",
       "        console.log(\"Bokeh: BokehJS plotting callback run at\", now());\n",
       "        run_inline_js();\n",
       "      });\n",
       "    }\n",
       "  }(this));\n",
       "</script>"
      ]
     },
     "metadata": {},
     "output_type": "display_data"
    }
   ],
   "source": [
    "p = figure(tools=\"pan,wheel_zoom,reset,save\",\n",
    "           toolbar_location=\"above\",\n",
    "           title=\"word2vec T-SNE for most common words\")\n",
    "\n",
    "source = ColumnDataSource(data=dict(x1=words_top_wiki_tsne[:,0],\n",
    "                                    x2=words_top_wiki_tsne[:,1],\n",
    "                                    names=words_top_wiki))\n",
    "\n",
    "p.scatter(x=\"x1\", y=\"x2\", size=8, source=source)\n",
    "\n",
    "labels = LabelSet(x=\"x1\", y=\"x2\", text=\"names\", y_offset=6,\n",
    "                  text_font_size=\"8pt\", text_color=\"#555555\",\n",
    "                  source=source, text_align='center')\n",
    "p.add_layout(labels)\n",
    "\n",
    "show(p)"
   ]
  },
  {
   "cell_type": "code",
   "execution_count": null,
   "metadata": {
    "collapsed": true
   },
   "outputs": [],
   "source": []
  }
 ],
 "metadata": {
  "anaconda-cloud": {},
  "kernelspec": {
   "display_name": "Python 3",
   "language": "python",
   "name": "python3"
  },
  "language_info": {
   "codemirror_mode": {
    "name": "ipython",
    "version": 3
   },
   "file_extension": ".py",
   "mimetype": "text/x-python",
   "name": "python",
   "nbconvert_exporter": "python",
   "pygments_lexer": "ipython3",
   "version": "3.5.2"
  }
 },
 "nbformat": 4,
 "nbformat_minor": 1
}
