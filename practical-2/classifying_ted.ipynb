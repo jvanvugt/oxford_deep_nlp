{
 "cells": [
  {
   "cell_type": "code",
   "execution_count": 1,
   "metadata": {
    "collapsed": true
   },
   "outputs": [],
   "source": [
    "import lxml.etree\n",
    "import re\n",
    "import zipfile\n",
    "\n",
    "from sklearn.feature_extraction.text import CountVectorizer\n",
    "from sklearn.metrics import classification_report, accuracy_score\n",
    "\n",
    "import numpy as np\n",
    "import tensorflow as tf\n",
    "import matplotlib.pyplot as plt\n",
    "\n",
    "plt.style.use('ggplot')\n",
    "%matplotlib inline"
   ]
  },
  {
   "cell_type": "code",
   "execution_count": 2,
   "metadata": {},
   "outputs": [
    {
     "data": {
      "text/html": [
       "\n",
       "    <div class=\"bk-root\">\n",
       "        <a href=\"http://bokeh.pydata.org\" target=\"_blank\" class=\"bk-logo bk-logo-small bk-logo-notebook\"></a>\n",
       "        <span id=\"f0c46051-9215-4730-892a-469eec1ebfe7\">Loading BokehJS ...</span>\n",
       "    </div>"
      ]
     },
     "metadata": {},
     "output_type": "display_data"
    },
    {
     "data": {
      "application/javascript": [
       "\n",
       "(function(global) {\n",
       "  function now() {\n",
       "    return new Date();\n",
       "  }\n",
       "\n",
       "  var force = true;\n",
       "\n",
       "  if (typeof (window._bokeh_onload_callbacks) === \"undefined\" || force === true) {\n",
       "    window._bokeh_onload_callbacks = [];\n",
       "    window._bokeh_is_loading = undefined;\n",
       "  }\n",
       "\n",
       "\n",
       "  \n",
       "  if (typeof (window._bokeh_timeout) === \"undefined\" || force === true) {\n",
       "    window._bokeh_timeout = Date.now() + 5000;\n",
       "    window._bokeh_failed_load = false;\n",
       "  }\n",
       "\n",
       "  var NB_LOAD_WARNING = {'data': {'text/html':\n",
       "     \"<div style='background-color: #fdd'>\\n\"+\n",
       "     \"<p>\\n\"+\n",
       "     \"BokehJS does not appear to have successfully loaded. If loading BokehJS from CDN, this \\n\"+\n",
       "     \"may be due to a slow or bad network connection. Possible fixes:\\n\"+\n",
       "     \"</p>\\n\"+\n",
       "     \"<ul>\\n\"+\n",
       "     \"<li>re-rerun `output_notebook()` to attempt to load from CDN again, or</li>\\n\"+\n",
       "     \"<li>use INLINE resources instead, as so:</li>\\n\"+\n",
       "     \"</ul>\\n\"+\n",
       "     \"<code>\\n\"+\n",
       "     \"from bokeh.resources import INLINE\\n\"+\n",
       "     \"output_notebook(resources=INLINE)\\n\"+\n",
       "     \"</code>\\n\"+\n",
       "     \"</div>\"}};\n",
       "\n",
       "  function display_loaded() {\n",
       "    if (window.Bokeh !== undefined) {\n",
       "      document.getElementById(\"f0c46051-9215-4730-892a-469eec1ebfe7\").textContent = \"BokehJS successfully loaded.\";\n",
       "    } else if (Date.now() < window._bokeh_timeout) {\n",
       "      setTimeout(display_loaded, 100)\n",
       "    }\n",
       "  }\n",
       "\n",
       "  function run_callbacks() {\n",
       "    window._bokeh_onload_callbacks.forEach(function(callback) { callback() });\n",
       "    delete window._bokeh_onload_callbacks\n",
       "    console.info(\"Bokeh: all callbacks have finished\");\n",
       "  }\n",
       "\n",
       "  function load_libs(js_urls, callback) {\n",
       "    window._bokeh_onload_callbacks.push(callback);\n",
       "    if (window._bokeh_is_loading > 0) {\n",
       "      console.log(\"Bokeh: BokehJS is being loaded, scheduling callback at\", now());\n",
       "      return null;\n",
       "    }\n",
       "    if (js_urls == null || js_urls.length === 0) {\n",
       "      run_callbacks();\n",
       "      return null;\n",
       "    }\n",
       "    console.log(\"Bokeh: BokehJS not loaded, scheduling load and callback at\", now());\n",
       "    window._bokeh_is_loading = js_urls.length;\n",
       "    for (var i = 0; i < js_urls.length; i++) {\n",
       "      var url = js_urls[i];\n",
       "      var s = document.createElement('script');\n",
       "      s.src = url;\n",
       "      s.async = false;\n",
       "      s.onreadystatechange = s.onload = function() {\n",
       "        window._bokeh_is_loading--;\n",
       "        if (window._bokeh_is_loading === 0) {\n",
       "          console.log(\"Bokeh: all BokehJS libraries loaded\");\n",
       "          run_callbacks()\n",
       "        }\n",
       "      };\n",
       "      s.onerror = function() {\n",
       "        console.warn(\"failed to load library \" + url);\n",
       "      };\n",
       "      console.log(\"Bokeh: injecting script tag for BokehJS library: \", url);\n",
       "      document.getElementsByTagName(\"head\")[0].appendChild(s);\n",
       "    }\n",
       "  };var element = document.getElementById(\"f0c46051-9215-4730-892a-469eec1ebfe7\");\n",
       "  if (element == null) {\n",
       "    console.log(\"Bokeh: ERROR: autoload.js configured with elementid 'f0c46051-9215-4730-892a-469eec1ebfe7' but no matching script tag was found. \")\n",
       "    return false;\n",
       "  }\n",
       "\n",
       "  var js_urls = [\"https://cdn.pydata.org/bokeh/release/bokeh-0.12.4.min.js\", \"https://cdn.pydata.org/bokeh/release/bokeh-widgets-0.12.4.min.js\"];\n",
       "\n",
       "  var inline_js = [\n",
       "    function(Bokeh) {\n",
       "      Bokeh.set_log_level(\"info\");\n",
       "    },\n",
       "    \n",
       "    function(Bokeh) {\n",
       "      \n",
       "      document.getElementById(\"f0c46051-9215-4730-892a-469eec1ebfe7\").textContent = \"BokehJS is loading...\";\n",
       "    },\n",
       "    function(Bokeh) {\n",
       "      console.log(\"Bokeh: injecting CSS: https://cdn.pydata.org/bokeh/release/bokeh-0.12.4.min.css\");\n",
       "      Bokeh.embed.inject_css(\"https://cdn.pydata.org/bokeh/release/bokeh-0.12.4.min.css\");\n",
       "      console.log(\"Bokeh: injecting CSS: https://cdn.pydata.org/bokeh/release/bokeh-widgets-0.12.4.min.css\");\n",
       "      Bokeh.embed.inject_css(\"https://cdn.pydata.org/bokeh/release/bokeh-widgets-0.12.4.min.css\");\n",
       "    }\n",
       "  ];\n",
       "\n",
       "  function run_inline_js() {\n",
       "    \n",
       "    if ((window.Bokeh !== undefined) || (force === true)) {\n",
       "      for (var i = 0; i < inline_js.length; i++) {\n",
       "        inline_js[i](window.Bokeh);\n",
       "      }if (force === true) {\n",
       "        display_loaded();\n",
       "      }} else if (Date.now() < window._bokeh_timeout) {\n",
       "      setTimeout(run_inline_js, 100);\n",
       "    } else if (!window._bokeh_failed_load) {\n",
       "      console.log(\"Bokeh: BokehJS failed to load within specified timeout.\");\n",
       "      window._bokeh_failed_load = true;\n",
       "    } else if (force !== true) {\n",
       "      var cell = $(document.getElementById(\"f0c46051-9215-4730-892a-469eec1ebfe7\")).parents('.cell').data().cell;\n",
       "      cell.output_area.append_execute_result(NB_LOAD_WARNING)\n",
       "    }\n",
       "\n",
       "  }\n",
       "\n",
       "  if (window._bokeh_is_loading === 0) {\n",
       "    console.log(\"Bokeh: BokehJS loaded, going straight to plotting\");\n",
       "    run_inline_js();\n",
       "  } else {\n",
       "    load_libs(js_urls, function() {\n",
       "      console.log(\"Bokeh: BokehJS plotting callback run at\", now());\n",
       "      run_inline_js();\n",
       "    });\n",
       "  }\n",
       "}(this));"
      ]
     },
     "metadata": {},
     "output_type": "display_data"
    }
   ],
   "source": [
    "from bokeh.models import ColumnDataSource, LabelSet\n",
    "from bokeh.plotting import figure, show, output_file\n",
    "from bokeh.io import output_notebook\n",
    "output_notebook()"
   ]
  },
  {
   "cell_type": "code",
   "execution_count": 3,
   "metadata": {
    "collapsed": true
   },
   "outputs": [],
   "source": [
    "V = 10000 # vocabulary size (excl. unknown word)\n",
    "E = 50 # Embedding size\n",
    "H = 50 # Hidden layer size\n",
    "O = 8 # number of classes\n",
    "\n",
    "N_WORDS = 500 # number of words to sample when training\n",
    "\n",
    "N_EPOCHS = 100\n",
    "BATCH_SIZE = 50\n",
    "LEARNING_RATE = 0.001"
   ]
  },
  {
   "cell_type": "code",
   "execution_count": 4,
   "metadata": {
    "collapsed": true
   },
   "outputs": [],
   "source": [
    "labels = ['ooo', 'Too', 'oEo', 'ooD', 'TEo', 'ToD', 'oED', 'TED']"
   ]
  },
  {
   "cell_type": "code",
   "execution_count": 5,
   "metadata": {
    "collapsed": true
   },
   "outputs": [],
   "source": [
    "def load_data(path):\n",
    "    '''\n",
    "    Load the data from an XML file in the zipfile at path\n",
    "    Returns the text of the talk and the keywords\n",
    "    '''\n",
    "    with zipfile.ZipFile(path, 'r') as z:\n",
    "        doc = lxml.etree.parse(z.open('ted_en-20160408.xml', 'r'))\n",
    "    keywords = doc.xpath('//file/head/keywords/text()')\n",
    "    descriptions = doc.xpath('//file/content/text()')\n",
    "    return descriptions, keywords\n",
    "\n",
    "def process_keywords(keywords):\n",
    "    ''' Parse the keywords to create a label '''\n",
    "    label = ''\n",
    "    label += 'T' if 'technology' in keywords else 'o'\n",
    "    label += 'E' if 'entertainment' in keywords else 'o'\n",
    "    label += 'D' if 'design' in keywords else 'o'\n",
    "    return label\n",
    "\n",
    "def preprocess(input_text):\n",
    "    '''\n",
    "    Clean up the text\n",
    "    '''\n",
    "    input_text_noparens = re.sub(r'\\([^)]*\\)', '', input_text)\n",
    "    sentences_strings_ted = []\n",
    "    for line in input_text_noparens.split('\\n'):\n",
    "        m = re.match(r'^(?:(?P<precolon>[^:]{,20}):)?(?P<postcolon>.*)$', line)\n",
    "        sentences_strings_ted.extend(sent for sent in m.groupdict()['postcolon'].split('.') if sent)\n",
    "    sentences_ted = ''\n",
    "    for sent_str in sentences_strings_ted:\n",
    "        tokens = re.sub(r'[^a-z0-9]+', \" \", sent_str.lower())\n",
    "        sentences_ted += ' ' + tokens\n",
    "    return sentences_ted\n",
    "\n",
    "def words_to_index(text):\n",
    "    '''\n",
    "    Map a list of text to a list of lists of indices\n",
    "    The top V words are taken into account.\n",
    "    Unknown words are mapped to index V\n",
    "    '''\n",
    "    cv = CountVectorizer()\n",
    "    counts = cv.fit_transform(text)\n",
    "\n",
    "    vocabulary = cv.vocabulary_\n",
    "    idx2word = {v:k for k, v in vocabulary.items()}\n",
    "\n",
    "    counts_ted = np.asarray(counts.sum(axis=0)).squeeze()\n",
    "    idx_ted_topV = np.argsort(counts_ted)[::-1][:V]\n",
    "    # Create dictionary mapping top V words to indices\n",
    "    words2idx = {idx2word[word_idx]:i for i, word_idx in enumerate(idx_ted_topV)}\n",
    "    idx2word = {v:k for k, v in words2idx.items()}\n",
    "    idx2word[V] = '<UNK>'\n",
    "\n",
    "    indices = []\n",
    "    for talk in text:\n",
    "        # Find the index for each word in words2idx, otherwise give index V\n",
    "        talk_indices = [words2idx[w] if w in words2idx else V for w in talk.split(' ')]\n",
    "        indices.append(talk_indices)\n",
    "\n",
    "    return indices, idx2word\n",
    "\n",
    "def sample_words(X):\n",
    "    ''' Sample N_WORDS from each sample '''\n",
    "    return np.array([np.random.choice(x, size=N_WORDS) for x in X])"
   ]
  },
  {
   "cell_type": "code",
   "execution_count": 6,
   "metadata": {},
   "outputs": [],
   "source": [
    "text, keywords = load_data('ted_en-20160408.zip')\n",
    "keywords = [process_keywords(kw) for kw in keywords]\n",
    "text = [preprocess(t) for t in text]\n",
    "X, idx2word = words_to_index(text)\n",
    "y = [labels.index(kw) for kw in keywords]\n",
    "\n",
    "# Create train, validation and test sets\n",
    "X_train, y_train = np.array(X[:1585]), np.array(y[:1585])\n",
    "X_val, y_val = np.array(X[1585:1585+250]), np.array(y[1585:1585+250])\n",
    "X_test, y_test = np.array(X[1585+250:]), np.array(y[1585+250:])"
   ]
  },
  {
   "cell_type": "code",
   "execution_count": 7,
   "metadata": {},
   "outputs": [
    {
     "data": {
      "image/png": "[encoded data removed]",
      "text/plain": [
       "<matplotlib.figure.Figure at 0x25c5dcc9748>"
      ]
     },
     "metadata": {},
     "output_type": "display_data"
    }
   ],
   "source": [
    "lengths = [len(x) for x  in X]\n",
    "plt.hist(lengths, bins=30)\n",
    "plt.axvline(np.mean(lengths), linestyle='--', c='k', linewidth=2)\n",
    "plt.title('Number of words in talk')\n",
    "plt.xlabel('Number of words')\n",
    "plt.ylabel('Frequency')\n",
    "plt.show()"
   ]
  },
  {
   "cell_type": "code",
   "execution_count": 8,
   "metadata": {},
   "outputs": [
    {
     "data": {
      "image/png": "[encoded data removed]",
      "text/plain": [
       "<matplotlib.figure.Figure at 0x25c5ddd8160>"
      ]
     },
     "metadata": {},
     "output_type": "display_data"
    }
   ],
   "source": [
    "width = 0.8\n",
    "n_labels = len(labels)\n",
    "plt.bar(np.arange(n_labels), np.histogram(y, bins=n_labels)[0], width=width)\n",
    "ax = plt.gca()\n",
    "ax.set_xticks(np.arange(n_labels) + width / 2)\n",
    "ax.set_xticklabels(labels)\n",
    "plt.title('Label frequencies')\n",
    "plt.xlabel('Label')\n",
    "plt.ylabel('Frequency')\n",
    "plt.show()"
   ]
  },
  {
   "cell_type": "code",
   "execution_count": 9,
   "metadata": {},
   "outputs": [],
   "source": [
    "class Model():\n",
    "    '''\n",
    "    Model consisting of an embedding layer and 1 hidden layer\n",
    "    '''\n",
    "    def __init__(self, input_shape=[None, None], dropout=0.5):\n",
    "        self.dropout = dropout\n",
    "        self.input_tensor = tf.placeholder(tf.int32, shape=input_shape)\n",
    "        self.target_tensor = tf.placeholder(tf.int64, shape=input_shape[0])\n",
    "        self.define_model()\n",
    "        self.session = tf.Session()\n",
    "        self.session.run(tf.global_variables_initializer())\n",
    "        \n",
    "        \n",
    "    def define_model(self):\n",
    "        # Variables\n",
    "        self.W_e = tf.Variable(tf.random_uniform([V+1, E], -1, 1))\n",
    "        self.W_h = tf.Variable(tf.truncated_normal([E, H], stddev=0.1))\n",
    "        self.b_h = tf.Variable(tf.zeros([H]))\n",
    "        self.W_v = tf.Variable(tf.truncated_normal([H, O], stddev=0.1))\n",
    "        self.b_v = tf.Variable(tf.zeros([O]))\n",
    "        self.keep_prob = tf.placeholder(tf.float32)\n",
    "\n",
    "        # Computational Graph\n",
    "        self.x = tf.reduce_mean(tf.nn.embedding_lookup(self.W_e, self.input_tensor), axis=1)\n",
    "        self.h = tf.nn.dropout(tf.nn.tanh(tf.matmul(self.x, self.W_h) + self.b_h), self.keep_prob)\n",
    "        self.u = tf.matmul(self.h, self.W_v) + self.b_v\n",
    "        \n",
    "        # Metrics and updates\n",
    "        cent = tf.nn.sparse_softmax_cross_entropy_with_logits(labels=self.target_tensor, logits=self.u)\n",
    "        self.cost = tf.reduce_mean(cent)\n",
    "\n",
    "        self.train_step = tf.train.AdamOptimizer(learning_rate=LEARNING_RATE).minimize(self.cost)\n",
    "\n",
    "        self.prediction = tf.nn.softmax(self.u)\n",
    "        self.accuracy = tf.reduce_mean(tf.cast(tf.equal(tf.argmax(self.prediction, 1), self.target_tensor), tf.float32))\n",
    "        \n",
    "    def train(self, X_train, y_train, X_val, y_val, n_epochs=N_EPOCHS, print_every=1):\n",
    "        X_val = sample_words(X_val)\n",
    "        for epoch in range(n_epochs):\n",
    "            train_order = np.random.permutation(len(X_train))\n",
    "            train_order = np.hstack([train_order, train_order])\n",
    "            losses = []\n",
    "            accs = []\n",
    "            for b in range(0, len(X_train), BATCH_SIZE):\n",
    "                batch_idx = train_order[b:b+BATCH_SIZE]\n",
    "                X_batch = X_train[batch_idx]\n",
    "                y_batch = y_train[batch_idx]\n",
    "                # Sample N_WORDS from each talk\n",
    "                X_batch = sample_words(X_batch)\n",
    "                feed_dict = feed_dict={self.input_tensor:X_batch, self.target_tensor: y_batch, self.keep_prob: self.dropout}\n",
    "                preds, acc, loss, _ = self.session.run([self.prediction, self.accuracy, self.cost, self.train_step], feed_dict)\n",
    "                losses.append(loss)\n",
    "                accs.append(acc)\n",
    "            \n",
    "            if epoch % print_every == 0:\n",
    "                # We can do validation in 1 batch\n",
    "                feed_dict = feed_dict={self.input_tensor:X_val, self.target_tensor: y_val, self.keep_prob: 1.}\n",
    "                preds, acc, loss, = self.session.run([self.prediction, self.accuracy, self.cost], feed_dict)\n",
    "                print('Epoch %d\\ttrain_loss=%.3f\\ttrain_accuracy=%.2f\\tval_loss=%.3f\\tval_accuracy=%.2f' % (\n",
    "                    epoch, np.mean(losses), np.mean(accs), loss, acc\n",
    "                ))\n",
    "            \n",
    "    def predict(self, X):\n",
    "        preds = self.session.run(self.prediction, feed_dict={self.input_tensor: X, self.keep_prob:1.})\n",
    "        return preds"
   ]
  },
  {
   "cell_type": "code",
   "execution_count": 10,
   "metadata": {},
   "outputs": [],
   "source": [
    "model = Model()"
   ]
  },
  {
   "cell_type": "code",
   "execution_count": 11,
   "metadata": {},
   "outputs": [
    {
     "name": "stdout",
     "output_type": "stream",
     "text": [
      "Epoch 0\ttrain_loss=1.884\ttrain_accuracy=0.50\tval_loss=1.885\tval_accuracy=0.34\n",
      "Epoch 5\ttrain_loss=1.273\ttrain_accuracy=0.61\tval_loss=1.976\tval_accuracy=0.34\n",
      "Epoch 10\ttrain_loss=1.224\ttrain_accuracy=0.61\tval_loss=1.957\tval_accuracy=0.34\n",
      "Epoch 15\ttrain_loss=1.133\ttrain_accuracy=0.61\tval_loss=1.831\tval_accuracy=0.35\n",
      "Epoch 20\ttrain_loss=1.038\ttrain_accuracy=0.63\tval_loss=1.823\tval_accuracy=0.36\n",
      "Epoch 25\ttrain_loss=0.953\ttrain_accuracy=0.67\tval_loss=1.806\tval_accuracy=0.38\n",
      "Epoch 30\ttrain_loss=0.867\ttrain_accuracy=0.70\tval_loss=1.757\tval_accuracy=0.39\n",
      "Epoch 35\ttrain_loss=0.794\ttrain_accuracy=0.73\tval_loss=1.816\tval_accuracy=0.38\n",
      "Epoch 40\ttrain_loss=0.735\ttrain_accuracy=0.75\tval_loss=1.871\tval_accuracy=0.38\n",
      "Epoch 45\ttrain_loss=0.694\ttrain_accuracy=0.75\tval_loss=1.929\tval_accuracy=0.40\n",
      "Epoch 50\ttrain_loss=0.630\ttrain_accuracy=0.78\tval_loss=1.947\tval_accuracy=0.41\n",
      "Epoch 55\ttrain_loss=0.585\ttrain_accuracy=0.80\tval_loss=2.075\tval_accuracy=0.40\n",
      "Epoch 60\ttrain_loss=0.546\ttrain_accuracy=0.82\tval_loss=2.058\tval_accuracy=0.41\n",
      "Epoch 65\ttrain_loss=0.494\ttrain_accuracy=0.84\tval_loss=2.075\tval_accuracy=0.40\n",
      "Epoch 70\ttrain_loss=0.455\ttrain_accuracy=0.85\tval_loss=2.130\tval_accuracy=0.41\n",
      "Epoch 75\ttrain_loss=0.423\ttrain_accuracy=0.87\tval_loss=2.193\tval_accuracy=0.41\n",
      "Epoch 80\ttrain_loss=0.388\ttrain_accuracy=0.87\tval_loss=2.316\tval_accuracy=0.42\n",
      "Epoch 85\ttrain_loss=0.373\ttrain_accuracy=0.88\tval_loss=2.489\tval_accuracy=0.41\n",
      "Epoch 90\ttrain_loss=0.341\ttrain_accuracy=0.89\tval_loss=2.307\tval_accuracy=0.42\n",
      "Epoch 95\ttrain_loss=0.345\ttrain_accuracy=0.88\tval_loss=2.478\tval_accuracy=0.42\n"
     ]
    }
   ],
   "source": [
    "model.train(np.array(X_train), np.array(y_train), np.array(X_val), np.array(y_val), print_every=5)"
   ]
  },
  {
   "cell_type": "code",
   "execution_count": 12,
   "metadata": {},
   "outputs": [
    {
     "name": "stdout",
     "output_type": "stream",
     "text": [
      "             precision    recall  f1-score   support\n",
      "\n",
      "        ooo       0.45      0.95      0.61        73\n",
      "        Too       0.44      0.45      0.44        56\n",
      "        oEo       0.33      0.05      0.09        41\n",
      "        ooD       0.50      0.52      0.51        27\n",
      "        TEo       0.00      0.00      0.00         8\n",
      "        ToD       0.40      0.07      0.12        28\n",
      "        oED       0.00      0.00      0.00         6\n",
      "        TED       0.00      0.00      0.00        11\n",
      "\n",
      "avg / total       0.38      0.45      0.36       250\n",
      "\n",
      "accuracy 0.448\n"
     ]
    },
    {
     "name": "stderr",
     "output_type": "stream",
     "text": [
      "d:\\anaconda\\lib\\site-packages\\sklearn\\metrics\\classification.py:1113: UndefinedMetricWarning: Precision and F-score are ill-defined and being set to 0.0 in labels with no predicted samples.\n",
      "  'precision', 'predicted', average, warn_for)\n"
     ]
    }
   ],
   "source": [
    "# For the test data, we can feed them in one by one to average all words\n",
    "preds = [np.argmax(model.predict(np.expand_dims(np.array(x), 0))[0]) for x in X_test]\n",
    "print(classification_report(y_test, preds, target_names=labels))\n",
    "print('accuracy', accuracy_score(y_test, preds))"
   ]
  },
  {
   "cell_type": "code",
   "execution_count": null,
   "metadata": {},
   "outputs": [],
   "source": [
    "embeddings = model.W_e.eval(model.session)"
   ]
  },
  {
   "cell_type": "code",
   "execution_count": null,
   "metadata": {},
   "outputs": [],
   "source": [
    "from sklearn.manifold import TSNE\n",
    "tsne = TSNE()\n",
    "proj_2d = tsne.fit_transform(embeddings)"
   ]
  },
  {
   "cell_type": "code",
   "execution_count": null,
   "metadata": {},
   "outputs": [],
   "source": [
    "words_list = [x[1] for x in sorted(idx2word.items(), key=lambda x: x[0])]\n",
    "p = figure(tools=\"pan,wheel_zoom,reset,save\",\n",
    "           toolbar_location=\"above\",\n",
    "           title=\"word2vec T-SNE for most common words\")\n",
    "\n",
    "source = ColumnDataSource(data=dict(x1=proj_2d[:,0],\n",
    "                                    x2=proj_2d[:,1],\n",
    "                                    names=words_list))\n",
    "\n",
    "p.scatter(x=\"x1\", y=\"x2\", size=8, source=source)\n",
    "\n",
    "labels = LabelSet(x=\"x1\", y=\"x2\", text=\"names\", y_offset=6,\n",
    "                  text_font_size=\"8pt\", text_color=\"#555555\",\n",
    "                  source=source, text_align='center')\n",
    "p.add_layout(labels)\n",
    "\n",
    "show(p)"
   ]
  }
 ],
 "metadata": {
  "kernelspec": {
   "display_name": "Python 3",
   "language": "python",
   "name": "python3"
  },
  "language_info": {
   "codemirror_mode": {
    "name": "ipython",
    "version": 3
   },
   "file_extension": ".py",
   "mimetype": "text/x-python",
   "name": "python",
   "nbconvert_exporter": "python",
   "pygments_lexer": "ipython3",
   "version": "3.5.2"
  }
 },
 "nbformat": 4,
 "nbformat_minor": 2
}
